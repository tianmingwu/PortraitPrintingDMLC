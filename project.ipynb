{
 "cells": [
  {
   "cell_type": "code",
   "execution_count": 78,
   "metadata": {
    "dotnet_interactive": {
     "language": "csharp"
    },
    "polyglot_notebook": {
     "kernelName": "csharp"
    },
    "vscode": {
     "languageId": "polyglot-notebook"
    }
   },
   "outputs": [],
   "source": [
    "#!import portraitprintingdmlc/PortraitPrintingDmlc.cs"
   ]
  },
  {
   "cell_type": "code",
   "execution_count": 79,
   "metadata": {
    "dotnet_interactive": {
     "language": "csharp"
    },
    "polyglot_notebook": {
     "kernelName": "csharp"
    },
    "vscode": {
     "languageId": "polyglot-notebook"
    }
   },
   "outputs": [
    {
     "name": "stdout",
     "output_type": "stream",
     "text": [
      "new image size: 280 x 42\n",
      "new image resolution: 192.02399, 22.654514\n",
      "1203\n"
     ]
    }
   ],
   "source": [
    "var arr = ImageDigitizer.Digitize(\"./images/rw.bmp\");\n",
    "var tables = CreateFieldTrajectoryForImageArray(arr);\n",
    "WriteMlcFile(tables)"
   ]
  },
  {
   "cell_type": "code",
   "execution_count": 47,
   "metadata": {
    "dotnet_interactive": {
     "language": "csharp"
    },
    "polyglot_notebook": {
     "kernelName": "csharp"
    },
    "vscode": {
     "languageId": "polyglot-notebook"
    }
   },
   "outputs": [],
   "source": [
    "var parkedPair = new MlcSequencer(new List<double>{0});\n",
    "var parkedTable = CreatePairTrajectoryTable(parkedPair);\n",
    "\n",
    "var testPair = new MlcSequencer(new List<double>{1,2,4,3,1,4,3});\n",
    "\n",
    "var testTable = CreatePairTrajectoryTable(testPair);\n"
   ]
  },
  {
   "cell_type": "code",
   "execution_count": 51,
   "metadata": {
    "dotnet_interactive": {
     "language": "csharp"
    },
    "polyglot_notebook": {
     "kernelName": "csharp"
    },
    "vscode": {
     "languageId": "polyglot-notebook"
    }
   },
   "outputs": [
    {
     "name": "stdout",
     "output_type": "stream",
     "text": [
      "7\r\n"
     ]
    },
    {
     "ename": "Error",
     "evalue": "System.ArgumentOutOfRangeException: Index was out of range. Must be non-negative and less than the size of the collection. (Parameter 'index')\r\n   at System.Collections.Generic.List`1.get_Item(Int32 index)\r\n   at Submission#46.WriteMlcFile(List`1 trajectories)\r\n   at Submission#52.<<Initialize>>d__0.MoveNext()\r\n--- End of stack trace from previous location ---\r\n   at Microsoft.CodeAnalysis.Scripting.ScriptExecutionState.RunSubmissionsAsync[TResult](ImmutableArray`1 precedingExecutors, Func`2 currentExecutor, StrongBox`1 exceptionHolderOpt, Func`2 catchExceptionOpt, CancellationToken cancellationToken)",
     "output_type": "error",
     "traceback": [
      "System.ArgumentOutOfRangeException: Index was out of range. Must be non-negative and less than the size of the collection. (Parameter 'index')\r\n",
      "   at System.Collections.Generic.List`1.get_Item(Int32 index)\r\n",
      "   at Submission#46.WriteMlcFile(List`1 trajectories)\r\n",
      "   at Submission#52.<<Initialize>>d__0.MoveNext()\r\n",
      "--- End of stack trace from previous location ---\r\n",
      "   at Microsoft.CodeAnalysis.Scripting.ScriptExecutionState.RunSubmissionsAsync[TResult](ImmutableArray`1 precedingExecutors, Func`2 currentExecutor, StrongBox`1 exceptionHolderOpt, Func`2 catchExceptionOpt, CancellationToken cancellationToken)"
     ]
    }
   ],
   "source": [
    "var pairs = new List<MlcSequencer>{parkedPair, testPair};\n",
    "var tables = CreateFieldTrajectoryTable(pairs);\n",
    "//WriteMlcFile(tables)"
   ]
  },
  {
   "cell_type": "code",
   "execution_count": 50,
   "metadata": {
    "dotnet_interactive": {
     "language": "csharp"
    },
    "polyglot_notebook": {
     "kernelName": "csharp"
    },
    "vscode": {
     "languageId": "polyglot-notebook"
    }
   },
   "outputs": [
    {
     "data": {
      "text/html": [
       "<table><thead><tr><th><i>index</i></th><th>value</th></tr></thead><tbody><tr><td>0</td><td><details class=\"dni-treeview\"><summary><span class=\"dni-code-hint\"><code>MeterSet, leading, trailing: 0, 0, 0</code></span></summary><div><table><thead><tr></tr></thead><tbody><tr><td>MeterSet</td><td><div class=\"dni-plaintext\"><pre>0</pre></div></td></tr><tr><td>LeadingLeafPos</td><td><div class=\"dni-plaintext\"><pre>0</pre></div></td></tr><tr><td>TrailingLeafPos</td><td><div class=\"dni-plaintext\"><pre>0</pre></div></td></tr></tbody></table></div></details></td></tr><tr><td>1</td><td><details class=\"dni-treeview\"><summary><span class=\"dni-code-hint\"><code>MeterSet, leading, trailing: 1, 0, 0</code></span></summary><div><table><thead><tr></tr></thead><tbody><tr><td>MeterSet</td><td><div class=\"dni-plaintext\"><pre>1</pre></div></td></tr><tr><td>LeadingLeafPos</td><td><div class=\"dni-plaintext\"><pre>0</pre></div></td></tr><tr><td>TrailingLeafPos</td><td><div class=\"dni-plaintext\"><pre>0</pre></div></td></tr></tbody></table></div></details></td></tr><tr><td>2</td><td><details class=\"dni-treeview\"><summary><span class=\"dni-code-hint\"><code>MeterSet, leading, trailing: 2, 0, 0</code></span></summary><div><table><thead><tr></tr></thead><tbody><tr><td>MeterSet</td><td><div class=\"dni-plaintext\"><pre>2</pre></div></td></tr><tr><td>LeadingLeafPos</td><td><div class=\"dni-plaintext\"><pre>0</pre></div></td></tr><tr><td>TrailingLeafPos</td><td><div class=\"dni-plaintext\"><pre>0</pre></div></td></tr></tbody></table></div></details></td></tr><tr><td>3</td><td><details class=\"dni-treeview\"><summary><span class=\"dni-code-hint\"><code>MeterSet, leading, trailing: 3, 0, 0</code></span></summary><div><table><thead><tr></tr></thead><tbody><tr><td>MeterSet</td><td><div class=\"dni-plaintext\"><pre>3</pre></div></td></tr><tr><td>LeadingLeafPos</td><td><div class=\"dni-plaintext\"><pre>0</pre></div></td></tr><tr><td>TrailingLeafPos</td><td><div class=\"dni-plaintext\"><pre>0</pre></div></td></tr></tbody></table></div></details></td></tr><tr><td>4</td><td><details class=\"dni-treeview\"><summary><span class=\"dni-code-hint\"><code>MeterSet, leading, trailing: 4, 0, 0</code></span></summary><div><table><thead><tr></tr></thead><tbody><tr><td>MeterSet</td><td><div class=\"dni-plaintext\"><pre>4</pre></div></td></tr><tr><td>LeadingLeafPos</td><td><div class=\"dni-plaintext\"><pre>0</pre></div></td></tr><tr><td>TrailingLeafPos</td><td><div class=\"dni-plaintext\"><pre>0</pre></div></td></tr></tbody></table></div></details></td></tr><tr><td>5</td><td><details class=\"dni-treeview\"><summary><span class=\"dni-code-hint\"><code>MeterSet, leading, trailing: 5, 0, 0</code></span></summary><div><table><thead><tr></tr></thead><tbody><tr><td>MeterSet</td><td><div class=\"dni-plaintext\"><pre>5</pre></div></td></tr><tr><td>LeadingLeafPos</td><td><div class=\"dni-plaintext\"><pre>0</pre></div></td></tr><tr><td>TrailingLeafPos</td><td><div class=\"dni-plaintext\"><pre>0</pre></div></td></tr></tbody></table></div></details></td></tr><tr><td>6</td><td><details class=\"dni-treeview\"><summary><span class=\"dni-code-hint\"><code>MeterSet, leading, trailing: 6, 0, 0</code></span></summary><div><table><thead><tr></tr></thead><tbody><tr><td>MeterSet</td><td><div class=\"dni-plaintext\"><pre>6</pre></div></td></tr><tr><td>LeadingLeafPos</td><td><div class=\"dni-plaintext\"><pre>0</pre></div></td></tr><tr><td>TrailingLeafPos</td><td><div class=\"dni-plaintext\"><pre>0</pre></div></td></tr></tbody></table></div></details></td></tr><tr><td>7</td><td><details class=\"dni-treeview\"><summary><span class=\"dni-code-hint\"><code>MeterSet, leading, trailing: 7, 0, 0</code></span></summary><div><table><thead><tr></tr></thead><tbody><tr><td>MeterSet</td><td><div class=\"dni-plaintext\"><pre>7</pre></div></td></tr><tr><td>LeadingLeafPos</td><td><div class=\"dni-plaintext\"><pre>0</pre></div></td></tr><tr><td>TrailingLeafPos</td><td><div class=\"dni-plaintext\"><pre>0</pre></div></td></tr></tbody></table></div></details></td></tr><tr><td>8</td><td><details class=\"dni-treeview\"><summary><span class=\"dni-code-hint\"><code>MeterSet, leading, trailing: 8, 0, 0</code></span></summary><div><table><thead><tr></tr></thead><tbody><tr><td>MeterSet</td><td><div class=\"dni-plaintext\"><pre>8</pre></div></td></tr><tr><td>LeadingLeafPos</td><td><div class=\"dni-plaintext\"><pre>0</pre></div></td></tr><tr><td>TrailingLeafPos</td><td><div class=\"dni-plaintext\"><pre>0</pre></div></td></tr></tbody></table></div></details></td></tr><tr><td>9</td><td><details class=\"dni-treeview\"><summary><span class=\"dni-code-hint\"><code>MeterSet, leading, trailing: 9, 0, 0</code></span></summary><div><table><thead><tr></tr></thead><tbody><tr><td>MeterSet</td><td><div class=\"dni-plaintext\"><pre>9</pre></div></td></tr><tr><td>LeadingLeafPos</td><td><div class=\"dni-plaintext\"><pre>0</pre></div></td></tr><tr><td>TrailingLeafPos</td><td><div class=\"dni-plaintext\"><pre>0</pre></div></td></tr></tbody></table></div></details></td></tr><tr><td>10</td><td><details class=\"dni-treeview\"><summary><span class=\"dni-code-hint\"><code>MeterSet, leading, trailing: 10, 0, 0</code></span></summary><div><table><thead><tr></tr></thead><tbody><tr><td>MeterSet</td><td><div class=\"dni-plaintext\"><pre>10</pre></div></td></tr><tr><td>LeadingLeafPos</td><td><div class=\"dni-plaintext\"><pre>0</pre></div></td></tr><tr><td>TrailingLeafPos</td><td><div class=\"dni-plaintext\"><pre>0</pre></div></td></tr></tbody></table></div></details></td></tr><tr><td>11</td><td><details class=\"dni-treeview\"><summary><span class=\"dni-code-hint\"><code>MeterSet, leading, trailing: 11, 0, 0</code></span></summary><div><table><thead><tr></tr></thead><tbody><tr><td>MeterSet</td><td><div class=\"dni-plaintext\"><pre>11</pre></div></td></tr><tr><td>LeadingLeafPos</td><td><div class=\"dni-plaintext\"><pre>0</pre></div></td></tr><tr><td>TrailingLeafPos</td><td><div class=\"dni-plaintext\"><pre>0</pre></div></td></tr></tbody></table></div></details></td></tr><tr><td>12</td><td><details class=\"dni-treeview\"><summary><span class=\"dni-code-hint\"><code>MeterSet, leading, trailing: 12, 0, 0</code></span></summary><div><table><thead><tr></tr></thead><tbody><tr><td>MeterSet</td><td><div class=\"dni-plaintext\"><pre>12</pre></div></td></tr><tr><td>LeadingLeafPos</td><td><div class=\"dni-plaintext\"><pre>0</pre></div></td></tr><tr><td>TrailingLeafPos</td><td><div class=\"dni-plaintext\"><pre>0</pre></div></td></tr></tbody></table></div></details></td></tr><tr><td>13</td><td><details class=\"dni-treeview\"><summary><span class=\"dni-code-hint\"><code>MeterSet, leading, trailing: 13, 0, 0</code></span></summary><div><table><thead><tr></tr></thead><tbody><tr><td>MeterSet</td><td><div class=\"dni-plaintext\"><pre>13</pre></div></td></tr><tr><td>LeadingLeafPos</td><td><div class=\"dni-plaintext\"><pre>0</pre></div></td></tr><tr><td>TrailingLeafPos</td><td><div class=\"dni-plaintext\"><pre>0</pre></div></td></tr></tbody></table></div></details></td></tr><tr><td>14</td><td><details class=\"dni-treeview\"><summary><span class=\"dni-code-hint\"><code>MeterSet, leading, trailing: 14, 0, 0</code></span></summary><div><table><thead><tr></tr></thead><tbody><tr><td>MeterSet</td><td><div class=\"dni-plaintext\"><pre>14</pre></div></td></tr><tr><td>LeadingLeafPos</td><td><div class=\"dni-plaintext\"><pre>0</pre></div></td></tr><tr><td>TrailingLeafPos</td><td><div class=\"dni-plaintext\"><pre>0</pre></div></td></tr></tbody></table></div></details></td></tr><tr><td>15</td><td><details class=\"dni-treeview\"><summary><span class=\"dni-code-hint\"><code>MeterSet, leading, trailing: 15, 0, 0</code></span></summary><div><table><thead><tr></tr></thead><tbody><tr><td>MeterSet</td><td><div class=\"dni-plaintext\"><pre>15</pre></div></td></tr><tr><td>LeadingLeafPos</td><td><div class=\"dni-plaintext\"><pre>0</pre></div></td></tr><tr><td>TrailingLeafPos</td><td><div class=\"dni-plaintext\"><pre>0</pre></div></td></tr></tbody></table></div></details></td></tr><tr><td>16</td><td><details class=\"dni-treeview\"><summary><span class=\"dni-code-hint\"><code>MeterSet, leading, trailing: 16, 0, 0</code></span></summary><div><table><thead><tr></tr></thead><tbody><tr><td>MeterSet</td><td><div class=\"dni-plaintext\"><pre>16</pre></div></td></tr><tr><td>LeadingLeafPos</td><td><div class=\"dni-plaintext\"><pre>0</pre></div></td></tr><tr><td>TrailingLeafPos</td><td><div class=\"dni-plaintext\"><pre>0</pre></div></td></tr></tbody></table></div></details></td></tr><tr><td>17</td><td><details class=\"dni-treeview\"><summary><span class=\"dni-code-hint\"><code>MeterSet, leading, trailing: 17, 0, 0</code></span></summary><div><table><thead><tr></tr></thead><tbody><tr><td>MeterSet</td><td><div class=\"dni-plaintext\"><pre>17</pre></div></td></tr><tr><td>LeadingLeafPos</td><td><div class=\"dni-plaintext\"><pre>0</pre></div></td></tr><tr><td>TrailingLeafPos</td><td><div class=\"dni-plaintext\"><pre>0</pre></div></td></tr></tbody></table></div></details></td></tr><tr><td>18</td><td><details class=\"dni-treeview\"><summary><span class=\"dni-code-hint\"><code>MeterSet, leading, trailing: 18, 0, 0</code></span></summary><div><table><thead><tr></tr></thead><tbody><tr><td>MeterSet</td><td><div class=\"dni-plaintext\"><pre>18</pre></div></td></tr><tr><td>LeadingLeafPos</td><td><div class=\"dni-plaintext\"><pre>0</pre></div></td></tr><tr><td>TrailingLeafPos</td><td><div class=\"dni-plaintext\"><pre>0</pre></div></td></tr></tbody></table></div></details></td></tr><tr><td>19</td><td><details class=\"dni-treeview\"><summary><span class=\"dni-code-hint\"><code>MeterSet, leading, trailing: 19, 0, 0</code></span></summary><div><table><thead><tr></tr></thead><tbody><tr><td>MeterSet</td><td><div class=\"dni-plaintext\"><pre>19</pre></div></td></tr><tr><td>LeadingLeafPos</td><td><div class=\"dni-plaintext\"><pre>0</pre></div></td></tr><tr><td>TrailingLeafPos</td><td><div class=\"dni-plaintext\"><pre>0</pre></div></td></tr></tbody></table></div></details></td></tr><tr><td colspan=\"2\"><i>(236 more)</i></td></tr></tbody></table><style>\r\n",
       ".dni-code-hint {\r\n",
       "    font-style: italic;\r\n",
       "    overflow: hidden;\r\n",
       "    white-space: nowrap;\r\n",
       "}\r\n",
       ".dni-treeview {\r\n",
       "    white-space: nowrap;\r\n",
       "}\r\n",
       ".dni-treeview td {\r\n",
       "    vertical-align: top;\r\n",
       "    text-align: start;\r\n",
       "}\r\n",
       "details.dni-treeview {\r\n",
       "    padding-left: 1em;\r\n",
       "}\r\n",
       "table td {\r\n",
       "    text-align: start;\r\n",
       "}\r\n",
       "table tr { \r\n",
       "    vertical-align: top; \r\n",
       "    margin: 0em 0px;\r\n",
       "}\r\n",
       "table tr td pre \r\n",
       "{ \r\n",
       "    vertical-align: top !important; \r\n",
       "    margin: 0em 0px !important;\r\n",
       "} \r\n",
       "table th {\r\n",
       "    text-align: start;\r\n",
       "}\r\n",
       "</style>"
      ]
     },
     "metadata": {},
     "output_type": "display_data"
    }
   ],
   "source": [
    "tables[0]"
   ]
  },
  {
   "cell_type": "code",
   "execution_count": null,
   "metadata": {
    "dotnet_interactive": {
     "language": "csharp"
    },
    "polyglot_notebook": {
     "kernelName": "csharp"
    },
    "vscode": {
     "languageId": "polyglot-notebook"
    }
   },
   "outputs": [],
   "source": []
  }
 ],
 "metadata": {
  "kernelspec": {
   "display_name": "Python 3",
   "language": "python",
   "name": "python3"
  },
  "language_info": {
   "name": "python",
   "version": "3.9.6"
  },
  "polyglot_notebook": {
   "kernelInfo": {
    "defaultKernelName": "csharp",
    "items": [
     {
      "aliases": [],
      "languageName": "csharp",
      "name": "csharp"
     }
    ]
   }
  }
 },
 "nbformat": 4,
 "nbformat_minor": 2
}
