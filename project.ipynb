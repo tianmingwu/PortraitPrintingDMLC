{
 "cells": [
  {
   "cell_type": "code",
   "execution_count": 9,
   "metadata": {
    "dotnet_interactive": {
     "language": "csharp"
    },
    "polyglot_notebook": {
     "kernelName": "csharp"
    },
    "vscode": {
     "languageId": "polyglot-notebook"
    }
   },
   "outputs": [],
   "source": [
    "#!import portraitprintingdmlc/PortraitPrintingDmlc.cs"
   ]
  },
  {
   "cell_type": "code",
   "execution_count": 10,
   "metadata": {
    "dotnet_interactive": {
     "language": "csharp"
    },
    "polyglot_notebook": {
     "kernelName": "csharp"
    },
    "vscode": {
     "languageId": "polyglot-notebook"
    }
   },
   "outputs": [
    {
     "ename": "Error",
     "evalue": "System.ArgumentOutOfRangeException: Index was out of range. Must be non-negative and less than the size of the collection. (Parameter 'index')\r\n   at System.Collections.Generic.List`1.get_Item(Int32 index)\r\n   at System.Linq.Enumerable.ElementAt[TSource](IEnumerable`1 source, Int32 index)\r\n   at Submission#10.TrajectoryTable(Double deltaMu, MlcSequencer pair, Double restPosition)\r\n   at Submission#11.<<Initialize>>d__0.MoveNext()\r\n--- End of stack trace from previous location ---\r\n   at Microsoft.CodeAnalysis.Scripting.ScriptExecutionState.RunSubmissionsAsync[TResult](ImmutableArray`1 precedingExecutors, Func`2 currentExecutor, StrongBox`1 exceptionHolderOpt, Func`2 catchExceptionOpt, CancellationToken cancellationToken)",
     "output_type": "error",
     "traceback": [
      "System.ArgumentOutOfRangeException: Index was out of range. Must be non-negative and less than the size of the collection. (Parameter 'index')\r\n",
      "   at System.Collections.Generic.List`1.get_Item(Int32 index)\r\n",
      "   at System.Linq.Enumerable.ElementAt[TSource](IEnumerable`1 source, Int32 index)\r\n",
      "   at Submission#10.TrajectoryTable(Double deltaMu, MlcSequencer pair, Double restPosition)\r\n",
      "   at Submission#11.<<Initialize>>d__0.MoveNext()\r\n",
      "--- End of stack trace from previous location ---\r\n",
      "   at Microsoft.CodeAnalysis.Scripting.ScriptExecutionState.RunSubmissionsAsync[TResult](ImmutableArray`1 precedingExecutors, Func`2 currentExecutor, StrongBox`1 exceptionHolderOpt, Func`2 catchExceptionOpt, CancellationToken cancellationToken)"
     ]
    }
   ],
   "source": [
    "var pair = new MlcSequencer(new List<double>{1,2,4,3,1,4,3});\n",
    "double incrementalMU = 1/255;\n",
    "double restLeafPosition = 7.0;\n",
    "\n",
    "var table = WriteTrajectoryTable(incrementalMU, pair, restLeafPosition);"
   ]
  },
  {
   "cell_type": "code",
   "execution_count": 124,
   "metadata": {
    "dotnet_interactive": {
     "language": "csharp"
    },
    "polyglot_notebook": {
     "kernelName": "csharp"
    },
    "vscode": {
     "languageId": "polyglot-notebook"
    }
   },
   "outputs": [
    {
     "name": "stdout",
     "output_type": "stream",
     "text": [
      "new image size: 140 x 42\n",
      "new image resolution: 96.01199, 22.654514\n"
     ]
    },
    {
     "data": {
      "text/html": [
       "<div class=\"dni-plaintext\"><pre>[ 42, 42, 42, 42, 42, 42, 43, 43, 45, 41, 27, 82, 201, 209, 182, 195, 210, 223, 222, 223 ... (120 more) ]</pre></div><style>\r\n",
       ".dni-code-hint {\r\n",
       "    font-style: italic;\r\n",
       "    overflow: hidden;\r\n",
       "    white-space: nowrap;\r\n",
       "}\r\n",
       ".dni-treeview {\r\n",
       "    white-space: nowrap;\r\n",
       "}\r\n",
       ".dni-treeview td {\r\n",
       "    vertical-align: top;\r\n",
       "    text-align: start;\r\n",
       "}\r\n",
       "details.dni-treeview {\r\n",
       "    padding-left: 1em;\r\n",
       "}\r\n",
       "table td {\r\n",
       "    text-align: start;\r\n",
       "}\r\n",
       "table tr { \r\n",
       "    vertical-align: top; \r\n",
       "    margin: 0em 0px;\r\n",
       "}\r\n",
       "table tr td pre \r\n",
       "{ \r\n",
       "    vertical-align: top !important; \r\n",
       "    margin: 0em 0px !important;\r\n",
       "} \r\n",
       "table th {\r\n",
       "    text-align: start;\r\n",
       "}\r\n",
       "</style>"
      ]
     },
     "metadata": {},
     "output_type": "display_data"
    }
   ],
   "source": [
    "var arr = ImageDigitizer.Digitize(\"./images/rw.bmp\");\n",
    "var row = Enumerable.Range(0, arr.GetLength(1)).Select(x=>arr[21, x]).ToList();\n",
    "row"
   ]
  },
  {
   "cell_type": "markdown",
   "metadata": {},
   "source": []
  },
  {
   "cell_type": "code",
   "execution_count": 135,
   "metadata": {
    "dotnet_interactive": {
     "language": "csharp"
    },
    "polyglot_notebook": {
     "kernelName": "csharp"
    },
    "vscode": {
     "languageId": "polyglot-notebook"
    }
   },
   "outputs": [
    {
     "data": {
      "text/html": [
       "<table><thead><tr><th><i>index</i></th><th>value</th></tr></thead><tbody><tr><td>0</td><td><div class=\"dni-plaintext\"><pre>[ 0.0008312551953449709, 0.004987531172069825, 0.00831255195344971, 0.011637572734829594, 0.012468827930174564, 0.013300083125519535, 0.014131338320864505, 0.01662510390689942, 0.017456359102244388, 0.019118869492934332, 0.020781379883624274, 0.02493765586034913, 0.029925187032418952, 0.032418952618453865, 0.03408146300914381, 0.03574397339983375, 0.038237738985868665, 0.04239401496259352, 0.0457190357439734, 0.049044056525353284 ... (more) ]</pre></div></td></tr><tr><td>1</td><td><div class=\"dni-plaintext\"><pre>[ 0.0008312551953449709, 0.0016625103906899418, 0.0024937655860349127, 0.004156275976724855, 0.004987531172069825, 0.01662510390689942, 0.021612635078969242, 0.02660016625103907, 0.03325020781379884, 0.051537822111388194, 0.05486284289276808, 0.059850374064837904, 0.0656691604322527, 0.07564422277639235, 0.08395677472984206, 0.10141313383208644, 0.10972568578553615, 0.1172069825436409, 0.12219451371571072, 0.12718204488778054 ... (more) ]</pre></div></td></tr><tr><td>2</td><td><div class=\"dni-plaintext\"><pre>[ 0.0016625103906899418, 0.004156275976724855, 0.004987531172069825, 0.0199501246882793, 0.05652535328345802, 0.0656691604322527, 0.09226932668329177, 0.09975062344139651, 0.10307564422277639, 0.11221945137157108, 0.12053200332502079, 0.1230257689110557, 0.12967581047381546, 0.13466334164588528, 0.1396508728179551, 0.14463840399002495, 0.14713216957605985, 0.15295095594347466, 0.1546134663341646, 0.15544472152950956 ... (more) ]</pre></div></td></tr><tr><td>3</td><td><div class=\"dni-plaintext\"><pre>[ 0.0008312551953449709, 0.0024937655860349127, 0.014962593516209476, 0.025768911055694097, 0.03740648379052369, 0.03906899418121363, 0.05236907730673317, 0.05320033250207814, 0.05901911886949293, 0.0656691604322527, 0.06733167082294264, 0.0739817123857024, 0.07896924355777224, 0.08811305070656691, 0.09310058187863675, 0.10224438902743142, 0.10806317539484622, 0.11305070656691604, 0.11554447215295095, 0.14214463840399003 ... (more) ]</pre></div></td></tr><tr><td>4</td><td><div class=\"dni-plaintext\"><pre>[ 0.0008312551953449709, 0.0016625103906899418, 0.0024937655860349127, 0.0033250207813798837, 0.004987531172069825, 0.006650041562759767, 0.00914380714879468, 0.015793848711554447, 0.04987531172069826, 0.05486284289276808, 0.05901911886949293, 0.06483790523690773, 0.07315045719035744, 0.0773067331670823, 0.08063175394846218, 0.09808811305070657, 0.10224438902743142, 0.11388196176226101, 0.11637572734829593, 0.13050706566916043 ... (more) ]</pre></div></td></tr><tr><td>5</td><td><div class=\"dni-plaintext\"><pre>[ 0.0008312551953449709, 0.0016625103906899418, 0.0024937655860349127, 0.006650041562759767, 0.022443890274314215, 0.043225270157938485, 0.05236907730673317, 0.09476309226932668, 0.12385702410640066, 0.12718204488778054, 0.13466334164588528, 0.1396508728179551, 0.14463840399002495, 0.1479634247714048, 0.15793848711554448, 0.17040731504571904, 0.1770573566084788, 0.1862011637572735, 0.1886949293433084, 0.2111388196176226 ... (more) ]</pre></div></td></tr><tr><td>6</td><td><div class=\"dni-plaintext\"><pre>[ 0.0008312551953449709, 0.004987531172069825, 0.007481296758104738, 0.012468827930174564, 0.03158769742310889, 0.04156275976724855, 0.04405652535328346, 0.06982543640897755, 0.08395677472984206, 0.09808811305070657, 0.10723192019950124, 0.12136325852036575, 0.1255195344970906, 0.13383208645054032, 0.14131338320864506, 0.14380714879467996, 0.15045719035743974, 0.15544472152950956, 0.17373233582709893, 0.17871986699916875 ... (more) ]</pre></div></td></tr><tr><td>7</td><td><div class=\"dni-plaintext\"><pre>[ 0.0008312551953449709, 0.0016625103906899418, 0.0033250207813798837, 0.005818786367414797, 0.02826267664172901, 0.034912718204488775, 0.0399002493765586, 0.06650041562759768, 0.0739817123857024, 0.0798004987531172, 0.09393183707398171, 0.10889443059019119, 0.1288445552784705, 0.13300083125519535, 0.1479634247714048, 0.15295095594347466, 0.16126350789692437, 0.1828761429758936, 0.18786367414796343, 0.19866999168744803 ... (more) ]</pre></div></td></tr><tr><td>8</td><td><div class=\"dni-plaintext\"><pre>[ 0.0008312551953449709, 0.004987531172069825, 0.019118869492934332, 0.03906899418121363, 0.04821280133000831, 0.07647547797173733, 0.07813798836242726, 0.085619285120532, 0.10723192019950124, 0.11886949293433084, 0.1479634247714048, 0.15876974231088944, 0.1770573566084788, 0.18786367414796343, 0.20615128844555278, 0.22194513715710723, 0.23358270989193683, 0.23690773067331672, 0.24522028262676643, 0.2601828761429759 ... (more) ]</pre></div></td></tr><tr><td>9</td><td><div class=\"dni-plaintext\"><pre>[ 0.0008312551953449709, 0.0016625103906899418, 0.0024937655860349127, 0.006650041562759767, 0.012468827930174564, 0.02660016625103907, 0.04239401496259352, 0.06317539484621779, 0.08645054031587697, 0.0889443059019119, 0.10889443059019119, 0.14713216957605985, 0.15544472152950956, 0.15793848711554448, 0.16874480465502908, 0.17290108063175394, 0.19451371571072318, 0.20199501246882792, 0.20781379883624274, 0.21862011637572734 ... (more) ]</pre></div></td></tr><tr><td>10</td><td><div class=\"dni-plaintext\"><pre>[ 0.0008312551953449709, 0.0016625103906899418, 0.004987531172069825, 0.034912718204488775, 0.0656691604322527, 0.07065669160432253, 0.08645054031587697, 0.11221945137157108, 0.11305070656691604, 0.11637572734829593, 0.11886949293433084, 0.1255195344970906, 0.13383208645054032, 0.1396508728179551, 0.16541978387364922, 0.1886949293433084, 0.19617622610141314, 0.21612635078969245, 0.2169576059850374, 0.22942643391521197 ... (more) ]</pre></div></td></tr><tr><td>11</td><td><div class=\"dni-plaintext\"><pre>[ 0.0016625103906899418, 0.00831255195344971, 0.013300083125519535, 0.014962593516209476, 0.025768911055694097, 0.0399002493765586, 0.04821280133000831, 0.057356608478802994, 0.058187863674147966, 0.0773067331670823, 0.11305070656691604, 0.11803823773898586, 0.12468827930174564, 0.14214463840399003, 0.14546965918536992, 0.16375727348295926, 0.18038237738985868, 0.19118869492934332, 0.2119700748129676, 0.21363258520365752 ... (more) ]</pre></div></td></tr><tr><td>12</td><td><div class=\"dni-plaintext\"><pre>[ 0.0008312551953449709, 0.0016625103906899418, 0.0024937655860349127, 0.00831255195344971, 0.013300083125519535, 0.029925187032418952, 0.030756442227763924, 0.03574397339983375, 0.03906899418121363, 0.060681629260182876, 0.10889443059019119, 0.11554447215295095, 0.14214463840399003, 0.17040731504571904, 0.18121363258520365, 0.1886949293433084, 0.19783873649210307, 0.20448877805486285, 0.20947630922693267, 0.2194513715710723 ... (more) ]</pre></div></td></tr><tr><td>13</td><td><div class=\"dni-plaintext\"><pre>[ 0.0016625103906899418, 0.0024937655860349127, 0.0033250207813798837, 0.004156275976724855, 0.011637572734829594, 0.023275145469659187, 0.03158769742310889, 0.043225270157938485, 0.04738154613466334, 0.060681629260182876, 0.08478802992518704, 0.11970074812967581, 0.15876974231088944, 0.19783873649210307, 0.22443890274314215, 0.23607647547797173, 0.23690773067331672, 0.23857024106400665, 0.24189526184538654, 0.24771404821280132 ... (more) ]</pre></div></td></tr><tr><td>14</td><td><div class=\"dni-plaintext\"><pre>[ 0.006650041562759767, 0.010806317539484621, 0.03408146300914381, 0.04405652535328346, 0.059850374064837904, 0.06317539484621779, 0.06650041562759768, 0.0773067331670823, 0.10058187863674148, 0.13466334164588528, 0.19035743973399832, 0.21778886118038238, 0.22360764754779716, 0.22443890274314215, 0.22527015793848712, 0.228595178719867, 0.23192019950124687, 0.23358270989193683, 0.23690773067331672, 0.23940149625935161 ... (more) ]</pre></div></td></tr><tr><td>15</td><td><div class=\"dni-plaintext\"><pre>[ 0.0008312551953449709, 0.0016625103906899418, 0.0033250207813798837, 0.005818786367414797, 0.021612635078969242, 0.025768911055694097, 0.032418952618453865, 0.04156275976724855, 0.06816292601828762, 0.07647547797173733, 0.08811305070656691, 0.10889443059019119, 0.1487946799667498, 0.15378221113881962, 0.15876974231088944, 0.16209476309226933, 0.1662510390689942, 0.16791354945968412, 0.16874480465502908, 0.17206982543640897 ... (more) ]</pre></div></td></tr><tr><td>16</td><td><div class=\"dni-plaintext\"><pre>[ 0.0016625103906899418, 0.0024937655860349127, 0.006650041562759767, 0.02493765586034913, 0.04488778054862843, 0.06234413965087282, 0.07231920199501247, 0.0773067331670823, 0.09725685785536159, 0.10224438902743142, 0.11305070656691604, 0.13549459684123025, 0.15876974231088944, 0.16209476309226933, 0.16541978387364922, 0.1662510390689942, 0.16791354945968412, 0.16957605985037408, 0.17040731504571904, 0.17206982543640897 ... (more) ]</pre></div></td></tr><tr><td>17</td><td><div class=\"dni-plaintext\"><pre>[ 0.0016625103906899418, 0.0033250207813798837, 0.004987531172069825, 0.024106400665004156, 0.0457190357439734, 0.05403158769742311, 0.058187863674147966, 0.06317539484621779, 0.09559434746467166, 0.13300083125519535, 0.142975893599335, 0.14713216957605985, 0.14962593516209477, 0.15045719035743974, 0.1571072319201995, 0.15876974231088944, 0.16375727348295926, 0.1662510390689942, 0.171238570241064, 0.17373233582709893 ... (more) ]</pre></div></td></tr><tr><td>18</td><td><div class=\"dni-plaintext\"><pre>[ 0.0016625103906899418, 0.004156275976724855, 0.012468827930174564, 0.032418952618453865, 0.04156275976724855, 0.05403158769742311, 0.06483790523690773, 0.06982543640897755, 0.08478802992518704, 0.12801330008312553, 0.1404821280133001, 0.14214463840399003, 0.14380714879467996, 0.14630091438071488, 0.16126350789692437, 0.17040731504571904, 0.18453865336658354, 0.19617622610141314, 0.2028262676641729, 0.2111388196176226 ... (more) ]</pre></div></td></tr><tr><td>19</td><td><div class=\"dni-plaintext\"><pre>[ 0.0016625103906899418, 0.007481296758104738, 0.010806317539484621, 0.02660016625103907, 0.029093931837073983, 0.034912718204488775, 0.05652535328345802, 0.10141313383208644, 0.10307564422277639, 0.1055694098088113, 0.10640066500415628, 0.11055694098088113, 0.12219451371571072, 0.13549459684123025, 0.14131338320864506, 0.14546965918536992, 0.14630091438071488, 0.15627597672485452, 0.1629260182876143, 0.171238570241064 ... (more) ]</pre></div></td></tr><tr><td colspan=\"2\"><i>(22 more)</i></td></tr></tbody></table><style>\r\n",
       ".dni-code-hint {\r\n",
       "    font-style: italic;\r\n",
       "    overflow: hidden;\r\n",
       "    white-space: nowrap;\r\n",
       "}\r\n",
       ".dni-treeview {\r\n",
       "    white-space: nowrap;\r\n",
       "}\r\n",
       ".dni-treeview td {\r\n",
       "    vertical-align: top;\r\n",
       "    text-align: start;\r\n",
       "}\r\n",
       "details.dni-treeview {\r\n",
       "    padding-left: 1em;\r\n",
       "}\r\n",
       "table td {\r\n",
       "    text-align: start;\r\n",
       "}\r\n",
       "table tr { \r\n",
       "    vertical-align: top; \r\n",
       "    margin: 0em 0px;\r\n",
       "}\r\n",
       "table tr td pre \r\n",
       "{ \r\n",
       "    vertical-align: top !important; \r\n",
       "    margin: 0em 0px !important;\r\n",
       "} \r\n",
       "table th {\r\n",
       "    text-align: start;\r\n",
       "}\r\n",
       "</style>"
      ]
     },
     "metadata": {},
     "output_type": "display_data"
    }
   ],
   "source": [
    "List<MlcSequencer> leaf = new List<MlcSequencer>();\n",
    "\n",
    "for(int i=0;i<arr.GetLength(0);i++)\n",
    "{\n",
    "    var row = Enumerable.Range(0, arr.GetLength(1)).Select(x=>arr[i, x]).ToList();\n",
    "    leaf.Add(new MlcSequencer(row));\n",
    "}\n",
    "\n",
    "double maxFieldMU = leaf.Select(x=>x.TotalMu).Max();\n",
    "\n",
    "leaf.Select(x=>x.LeadingLeafMu.Select(y=>y/maxFieldMU)).ToList()"
   ]
  },
  {
   "cell_type": "code",
   "execution_count": 134,
   "metadata": {
    "dotnet_interactive": {
     "language": "csharp"
    },
    "polyglot_notebook": {
     "kernelName": "csharp"
    },
    "vscode": {
     "languageId": "polyglot-notebook"
    }
   },
   "outputs": [
    {
     "data": {
      "text/html": [
       "<details open=\"open\" class=\"dni-treeview\"><summary><span class=\"dni-code-hint\"><code>Submission#123+MlcSequencer</code></span></summary><div><table><thead><tr></tr></thead><tbody><tr><td>TrailingLeafPositions</td><td><div class=\"dni-plaintext\"><pre>[ 140, 112, 104, 102, 101, 99, 97, 96, 91, 90, 88, 84, 83, 80, 79, 77, 76, 74, 71, 69 ... (12 more) ]</pre></div></td></tr><tr><td>LeadingLeafPositions</td><td><div class=\"dni-plaintext\"><pre>[ 106, 103, 100, 95, 94, 92, 89, 86, 85, 82, 81, 78, 75, 72, 70, 68, 67, 61, 58, 55 ... (7 more) ]</pre></div></td></tr><tr><td>PositiveCoefficients</td><td><div class=\"dni-plaintext\"><pre>[ 1, 5, 4, 4, 1, 1, 1, 3, 1, 2, 2, 5, 6, 3, 2, 2, 3, 5, 4, 4 ... (7 more) ]</pre></div></td></tr><tr><td>NegativeCoefficients</td><td><div class=\"dni-plaintext\"><pre>[ -42, -1, -3, -2, -2, -2, -1, -3, -1, -2, -3, -2, -1, -3, -2, -3, -3, -3, -3, -3 ... (12 more) ]</pre></div></td></tr><tr><td>LeadingLeafMu</td><td><div class=\"dni-plaintext\"><pre>[ 1, 6, 10, 14, 15, 16, 17, 20, 21, 23, 25, 30, 36, 39, 41, 43, 46, 51, 55, 59 ... (7 more) ]</pre></div></td></tr><tr><td>TrailingLeafMu</td><td><div class=\"dni-plaintext\"><pre>[ 42, 43, 46, 48, 50, 52, 53, 56, 57, 59, 62, 64, 65, 68, 70, 73, 76, 79, 82, 85 ... (12 more) ]</pre></div></td></tr><tr><td>TotalMu</td><td><div class=\"dni-plaintext\"><pre>109</pre></div></td></tr></tbody></table></div></details><style>\r\n",
       ".dni-code-hint {\r\n",
       "    font-style: italic;\r\n",
       "    overflow: hidden;\r\n",
       "    white-space: nowrap;\r\n",
       "}\r\n",
       ".dni-treeview {\r\n",
       "    white-space: nowrap;\r\n",
       "}\r\n",
       ".dni-treeview td {\r\n",
       "    vertical-align: top;\r\n",
       "    text-align: start;\r\n",
       "}\r\n",
       "details.dni-treeview {\r\n",
       "    padding-left: 1em;\r\n",
       "}\r\n",
       "table td {\r\n",
       "    text-align: start;\r\n",
       "}\r\n",
       "table tr { \r\n",
       "    vertical-align: top; \r\n",
       "    margin: 0em 0px;\r\n",
       "}\r\n",
       "table tr td pre \r\n",
       "{ \r\n",
       "    vertical-align: top !important; \r\n",
       "    margin: 0em 0px !important;\r\n",
       "} \r\n",
       "table th {\r\n",
       "    text-align: start;\r\n",
       "}\r\n",
       "</style>"
      ]
     },
     "metadata": {},
     "output_type": "display_data"
    }
   ],
   "source": [
    "leaf[0]"
   ]
  },
  {
   "cell_type": "code",
   "execution_count": 128,
   "metadata": {
    "dotnet_interactive": {
     "language": "csharp"
    },
    "polyglot_notebook": {
     "kernelName": "csharp"
    },
    "vscode": {
     "languageId": "polyglot-notebook"
    }
   },
   "outputs": [
    {
     "data": {
      "text/html": [
       "<div class=\"dni-plaintext\"><pre>7</pre></div><style>\r\n",
       ".dni-code-hint {\r\n",
       "    font-style: italic;\r\n",
       "    overflow: hidden;\r\n",
       "    white-space: nowrap;\r\n",
       "}\r\n",
       ".dni-treeview {\r\n",
       "    white-space: nowrap;\r\n",
       "}\r\n",
       ".dni-treeview td {\r\n",
       "    vertical-align: top;\r\n",
       "    text-align: start;\r\n",
       "}\r\n",
       "details.dni-treeview {\r\n",
       "    padding-left: 1em;\r\n",
       "}\r\n",
       "table td {\r\n",
       "    text-align: start;\r\n",
       "}\r\n",
       "table tr { \r\n",
       "    vertical-align: top; \r\n",
       "    margin: 0em 0px;\r\n",
       "}\r\n",
       "table tr td pre \r\n",
       "{ \r\n",
       "    vertical-align: top !important; \r\n",
       "    margin: 0em 0px !important;\r\n",
       "} \r\n",
       "table th {\r\n",
       "    text-align: start;\r\n",
       "}\r\n",
       "</style>"
      ]
     },
     "metadata": {},
     "output_type": "display_data"
    }
   ],
   "source": [
    "pair.LeadingLeafMu.Last<double>()"
   ]
  },
  {
   "cell_type": "code",
   "execution_count": 129,
   "metadata": {
    "dotnet_interactive": {
     "language": "csharp"
    },
    "polyglot_notebook": {
     "kernelName": "csharp"
    },
    "vscode": {
     "languageId": "polyglot-notebook"
    }
   },
   "outputs": [
    {
     "data": {
      "text/html": [
       "<div class=\"dni-plaintext\"><pre>7</pre></div><style>\r\n",
       ".dni-code-hint {\r\n",
       "    font-style: italic;\r\n",
       "    overflow: hidden;\r\n",
       "    white-space: nowrap;\r\n",
       "}\r\n",
       ".dni-treeview {\r\n",
       "    white-space: nowrap;\r\n",
       "}\r\n",
       ".dni-treeview td {\r\n",
       "    vertical-align: top;\r\n",
       "    text-align: start;\r\n",
       "}\r\n",
       "details.dni-treeview {\r\n",
       "    padding-left: 1em;\r\n",
       "}\r\n",
       "table td {\r\n",
       "    text-align: start;\r\n",
       "}\r\n",
       "table tr { \r\n",
       "    vertical-align: top; \r\n",
       "    margin: 0em 0px;\r\n",
       "}\r\n",
       "table tr td pre \r\n",
       "{ \r\n",
       "    vertical-align: top !important; \r\n",
       "    margin: 0em 0px !important;\r\n",
       "} \r\n",
       "table th {\r\n",
       "    text-align: start;\r\n",
       "}\r\n",
       "</style>"
      ]
     },
     "metadata": {},
     "output_type": "display_data"
    }
   ],
   "source": [
    "pair.PositiveCoefficients.Sum()"
   ]
  },
  {
   "cell_type": "code",
   "execution_count": 130,
   "metadata": {
    "dotnet_interactive": {
     "language": "csharp"
    },
    "polyglot_notebook": {
     "kernelName": "csharp"
    },
    "vscode": {
     "languageId": "polyglot-notebook"
    }
   },
   "outputs": [
    {
     "data": {
      "text/html": [
       "<div class=\"dni-plaintext\"><pre>-7</pre></div><style>\r\n",
       ".dni-code-hint {\r\n",
       "    font-style: italic;\r\n",
       "    overflow: hidden;\r\n",
       "    white-space: nowrap;\r\n",
       "}\r\n",
       ".dni-treeview {\r\n",
       "    white-space: nowrap;\r\n",
       "}\r\n",
       ".dni-treeview td {\r\n",
       "    vertical-align: top;\r\n",
       "    text-align: start;\r\n",
       "}\r\n",
       "details.dni-treeview {\r\n",
       "    padding-left: 1em;\r\n",
       "}\r\n",
       "table td {\r\n",
       "    text-align: start;\r\n",
       "}\r\n",
       "table tr { \r\n",
       "    vertical-align: top; \r\n",
       "    margin: 0em 0px;\r\n",
       "}\r\n",
       "table tr td pre \r\n",
       "{ \r\n",
       "    vertical-align: top !important; \r\n",
       "    margin: 0em 0px !important;\r\n",
       "} \r\n",
       "table th {\r\n",
       "    text-align: start;\r\n",
       "}\r\n",
       "</style>"
      ]
     },
     "metadata": {},
     "output_type": "display_data"
    }
   ],
   "source": [
    "pair.NegativeCoefficients.Sum()"
   ]
  },
  {
   "cell_type": "code",
   "execution_count": null,
   "metadata": {
    "dotnet_interactive": {
     "language": "csharp"
    },
    "polyglot_notebook": {
     "kernelName": "csharp"
    },
    "vscode": {
     "languageId": "polyglot-notebook"
    }
   },
   "outputs": [],
   "source": []
  }
 ],
 "metadata": {
  "kernelspec": {
   "display_name": "Python 3",
   "language": "python",
   "name": "python3"
  },
  "language_info": {
   "name": "python",
   "version": "3.9.6"
  },
  "polyglot_notebook": {
   "kernelInfo": {
    "defaultKernelName": "csharp",
    "items": [
     {
      "aliases": [],
      "languageName": "csharp",
      "name": "csharp"
     }
    ]
   }
  }
 },
 "nbformat": 4,
 "nbformat_minor": 2
}
