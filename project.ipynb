{
 "cells": [
  {
   "cell_type": "code",
   "execution_count": 41,
   "metadata": {
    "dotnet_interactive": {
     "language": "csharp"
    },
    "polyglot_notebook": {
     "kernelName": "csharp"
    },
    "vscode": {
     "languageId": "polyglot-notebook"
    }
   },
   "outputs": [],
   "source": [
    "#!import portraitprintingdmlc/PortraitPrintingDmlc.cs"
   ]
  },
  {
   "cell_type": "code",
   "execution_count": 44,
   "metadata": {
    "dotnet_interactive": {
     "language": "csharp"
    },
    "polyglot_notebook": {
     "kernelName": "csharp"
    },
    "vscode": {
     "languageId": "polyglot-notebook"
    }
   },
   "outputs": [
    {
     "name": "stdout",
     "output_type": "stream",
     "text": [
      "new image size: 280 x 42\n",
      "new image resolution: 192.02399, 22.654514\n",
      "235\n"
     ]
    }
   ],
   "source": [
    "var arr = Digitize(\"./images/rw.bmp\", 100.0);\n",
    "var tables = CreateFieldTrajectoryForImageArray(arr);\n",
    "WriteMlcFile(tables)"
   ]
  },
  {
   "cell_type": "code",
   "execution_count": 37,
   "metadata": {
    "dotnet_interactive": {
     "language": "csharp"
    },
    "polyglot_notebook": {
     "kernelName": "csharp"
    },
    "vscode": {
     "languageId": "polyglot-notebook"
    }
   },
   "outputs": [],
   "source": [
    "var parkedPair = new MlcSequencer(new List<double>{0});\n",
    "var parkedTable = CreatePairTrajectoryTable(parkedPair);\n",
    "\n",
    "var testPair = new MlcSequencer(new List<double>{1,2,4,3,1,4,3});\n",
    "\n",
    "var testTable = CreatePairTrajectoryTable(testPair);\n"
   ]
  },
  {
   "cell_type": "code",
   "execution_count": 38,
   "metadata": {
    "dotnet_interactive": {
     "language": "csharp"
    },
    "polyglot_notebook": {
     "kernelName": "csharp"
    },
    "vscode": {
     "languageId": "polyglot-notebook"
    }
   },
   "outputs": [
    {
     "data": {
      "text/html": [
       "<details open=\"open\" class=\"dni-treeview\"><summary><span class=\"dni-code-hint\"><code>Submission#36+MlcSequencer</code></span></summary><div><table><thead><tr></tr></thead><tbody><tr><td>TrailingLeafPositions</td><td><div class=\"dni-plaintext\"><pre>[ 7, 6, 4, 3 ]</pre></div></td></tr><tr><td>LeadingLeafPositions</td><td><div class=\"dni-plaintext\"><pre>[ 5, 2, 1, 0 ]</pre></div></td></tr><tr><td>LeadingLeafMu</td><td><div class=\"dni-plaintext\"><pre>[ 3, 5, 6, 7 ]</pre></div></td></tr><tr><td>TrailingLeafMu</td><td><div class=\"dni-plaintext\"><pre>[ 3, 4, 6, 7 ]</pre></div></td></tr><tr><td>TotalMu</td><td><div class=\"dni-plaintext\"><pre>7</pre></div></td></tr></tbody></table></div></details><style>\r\n",
       ".dni-code-hint {\r\n",
       "    font-style: italic;\r\n",
       "    overflow: hidden;\r\n",
       "    white-space: nowrap;\r\n",
       "}\r\n",
       ".dni-treeview {\r\n",
       "    white-space: nowrap;\r\n",
       "}\r\n",
       ".dni-treeview td {\r\n",
       "    vertical-align: top;\r\n",
       "    text-align: start;\r\n",
       "}\r\n",
       "details.dni-treeview {\r\n",
       "    padding-left: 1em;\r\n",
       "}\r\n",
       "table td {\r\n",
       "    text-align: start;\r\n",
       "}\r\n",
       "table tr { \r\n",
       "    vertical-align: top; \r\n",
       "    margin: 0em 0px;\r\n",
       "}\r\n",
       "table tr td pre \r\n",
       "{ \r\n",
       "    vertical-align: top !important; \r\n",
       "    margin: 0em 0px !important;\r\n",
       "} \r\n",
       "table th {\r\n",
       "    text-align: start;\r\n",
       "}\r\n",
       "</style>"
      ]
     },
     "metadata": {},
     "output_type": "display_data"
    }
   ],
   "source": [
    "testPair"
   ]
  },
  {
   "cell_type": "code",
   "execution_count": 39,
   "metadata": {
    "dotnet_interactive": {
     "language": "csharp"
    },
    "polyglot_notebook": {
     "kernelName": "csharp"
    },
    "vscode": {
     "languageId": "polyglot-notebook"
    }
   },
   "outputs": [
    {
     "name": "stdout",
     "output_type": "stream",
     "text": [
      "7\r\n"
     ]
    }
   ],
   "source": [
    "var pairs = new List<MlcSequencer>{parkedPair, testPair};\n",
    "var tables = CreateFieldTrajectoryTable(pairs);\n",
    "//WriteMlcFile(tables)"
   ]
  },
  {
   "cell_type": "code",
   "execution_count": 40,
   "metadata": {
    "dotnet_interactive": {
     "language": "csharp"
    },
    "polyglot_notebook": {
     "kernelName": "csharp"
    },
    "vscode": {
     "languageId": "polyglot-notebook"
    }
   },
   "outputs": [
    {
     "data": {
      "text/html": [
       "<table><thead><tr><th><i>index</i></th><th>value</th></tr></thead><tbody><tr><td>0</td><td><table><thead><tr><th><i>index</i></th><th>value</th></tr></thead><tbody><tr><td>0</td><td><details class=\"dni-treeview\"><summary><span class=\"dni-code-hint\"><code>MeterSet, leading, trailing: 0, 0, 0</code></span></summary><div><table><thead><tr></tr></thead><tbody><tr><td>MeterSet</td><td><div class=\"dni-plaintext\"><pre>0</pre></div></td></tr><tr><td>LeadingLeafPos</td><td><div class=\"dni-plaintext\"><pre>0</pre></div></td></tr><tr><td>TrailingLeafPos</td><td><div class=\"dni-plaintext\"><pre>0</pre></div></td></tr></tbody></table></div></details></td></tr><tr><td>1</td><td><details class=\"dni-treeview\"><summary><span class=\"dni-code-hint\"><code>MeterSet, leading, trailing: 1, 0, 0</code></span></summary><div><table><thead><tr></tr></thead><tbody><tr><td>MeterSet</td><td><div class=\"dni-plaintext\"><pre>1</pre></div></td></tr><tr><td>LeadingLeafPos</td><td><div class=\"dni-plaintext\"><pre>0</pre></div></td></tr><tr><td>TrailingLeafPos</td><td><div class=\"dni-plaintext\"><pre>0</pre></div></td></tr></tbody></table></div></details></td></tr><tr><td>2</td><td><details class=\"dni-treeview\"><summary><span class=\"dni-code-hint\"><code>MeterSet, leading, trailing: 2, 0, 0</code></span></summary><div><table><thead><tr></tr></thead><tbody><tr><td>MeterSet</td><td><div class=\"dni-plaintext\"><pre>2</pre></div></td></tr><tr><td>LeadingLeafPos</td><td><div class=\"dni-plaintext\"><pre>0</pre></div></td></tr><tr><td>TrailingLeafPos</td><td><div class=\"dni-plaintext\"><pre>0</pre></div></td></tr></tbody></table></div></details></td></tr><tr><td>3</td><td><details class=\"dni-treeview\"><summary><span class=\"dni-code-hint\"><code>MeterSet, leading, trailing: 3, 0, 0</code></span></summary><div><table><thead><tr></tr></thead><tbody><tr><td>MeterSet</td><td><div class=\"dni-plaintext\"><pre>3</pre></div></td></tr><tr><td>LeadingLeafPos</td><td><div class=\"dni-plaintext\"><pre>0</pre></div></td></tr><tr><td>TrailingLeafPos</td><td><div class=\"dni-plaintext\"><pre>0</pre></div></td></tr></tbody></table></div></details></td></tr><tr><td>4</td><td><details class=\"dni-treeview\"><summary><span class=\"dni-code-hint\"><code>MeterSet, leading, trailing: 4, 0, 0</code></span></summary><div><table><thead><tr></tr></thead><tbody><tr><td>MeterSet</td><td><div class=\"dni-plaintext\"><pre>4</pre></div></td></tr><tr><td>LeadingLeafPos</td><td><div class=\"dni-plaintext\"><pre>0</pre></div></td></tr><tr><td>TrailingLeafPos</td><td><div class=\"dni-plaintext\"><pre>0</pre></div></td></tr></tbody></table></div></details></td></tr><tr><td>5</td><td><details class=\"dni-treeview\"><summary><span class=\"dni-code-hint\"><code>MeterSet, leading, trailing: 5, 0, 0</code></span></summary><div><table><thead><tr></tr></thead><tbody><tr><td>MeterSet</td><td><div class=\"dni-plaintext\"><pre>5</pre></div></td></tr><tr><td>LeadingLeafPos</td><td><div class=\"dni-plaintext\"><pre>0</pre></div></td></tr><tr><td>TrailingLeafPos</td><td><div class=\"dni-plaintext\"><pre>0</pre></div></td></tr></tbody></table></div></details></td></tr><tr><td>6</td><td><details class=\"dni-treeview\"><summary><span class=\"dni-code-hint\"><code>MeterSet, leading, trailing: 6, 0, 0</code></span></summary><div><table><thead><tr></tr></thead><tbody><tr><td>MeterSet</td><td><div class=\"dni-plaintext\"><pre>6</pre></div></td></tr><tr><td>LeadingLeafPos</td><td><div class=\"dni-plaintext\"><pre>0</pre></div></td></tr><tr><td>TrailingLeafPos</td><td><div class=\"dni-plaintext\"><pre>0</pre></div></td></tr></tbody></table></div></details></td></tr><tr><td>7</td><td><details class=\"dni-treeview\"><summary><span class=\"dni-code-hint\"><code>MeterSet, leading, trailing: 7, 0, 0</code></span></summary><div><table><thead><tr></tr></thead><tbody><tr><td>MeterSet</td><td><div class=\"dni-plaintext\"><pre>7</pre></div></td></tr><tr><td>LeadingLeafPos</td><td><div class=\"dni-plaintext\"><pre>0</pre></div></td></tr><tr><td>TrailingLeafPos</td><td><div class=\"dni-plaintext\"><pre>0</pre></div></td></tr></tbody></table></div></details></td></tr><tr><td>8</td><td><details class=\"dni-treeview\"><summary><span class=\"dni-code-hint\"><code>MeterSet, leading, trailing: 8, 0, 0</code></span></summary><div><table><thead><tr></tr></thead><tbody><tr><td>MeterSet</td><td><div class=\"dni-plaintext\"><pre>8</pre></div></td></tr><tr><td>LeadingLeafPos</td><td><div class=\"dni-plaintext\"><pre>0</pre></div></td></tr><tr><td>TrailingLeafPos</td><td><div class=\"dni-plaintext\"><pre>0</pre></div></td></tr></tbody></table></div></details></td></tr><tr><td>9</td><td><details class=\"dni-treeview\"><summary><span class=\"dni-code-hint\"><code>MeterSet, leading, trailing: 9, 0, 0</code></span></summary><div><table><thead><tr></tr></thead><tbody><tr><td>MeterSet</td><td><div class=\"dni-plaintext\"><pre>9</pre></div></td></tr><tr><td>LeadingLeafPos</td><td><div class=\"dni-plaintext\"><pre>0</pre></div></td></tr><tr><td>TrailingLeafPos</td><td><div class=\"dni-plaintext\"><pre>0</pre></div></td></tr></tbody></table></div></details></td></tr><tr><td>10</td><td><details class=\"dni-treeview\"><summary><span class=\"dni-code-hint\"><code>MeterSet, leading, trailing: 10, 0, 0</code></span></summary><div><table><thead><tr></tr></thead><tbody><tr><td>MeterSet</td><td><div class=\"dni-plaintext\"><pre>10</pre></div></td></tr><tr><td>LeadingLeafPos</td><td><div class=\"dni-plaintext\"><pre>0</pre></div></td></tr><tr><td>TrailingLeafPos</td><td><div class=\"dni-plaintext\"><pre>0</pre></div></td></tr></tbody></table></div></details></td></tr><tr><td>11</td><td><details class=\"dni-treeview\"><summary><span class=\"dni-code-hint\"><code>MeterSet, leading, trailing: 11, 0, 0</code></span></summary><div><table><thead><tr></tr></thead><tbody><tr><td>MeterSet</td><td><div class=\"dni-plaintext\"><pre>11</pre></div></td></tr><tr><td>LeadingLeafPos</td><td><div class=\"dni-plaintext\"><pre>0</pre></div></td></tr><tr><td>TrailingLeafPos</td><td><div class=\"dni-plaintext\"><pre>0</pre></div></td></tr></tbody></table></div></details></td></tr><tr><td>12</td><td><details class=\"dni-treeview\"><summary><span class=\"dni-code-hint\"><code>MeterSet, leading, trailing: 12, 0, 0</code></span></summary><div><table><thead><tr></tr></thead><tbody><tr><td>MeterSet</td><td><div class=\"dni-plaintext\"><pre>12</pre></div></td></tr><tr><td>LeadingLeafPos</td><td><div class=\"dni-plaintext\"><pre>0</pre></div></td></tr><tr><td>TrailingLeafPos</td><td><div class=\"dni-plaintext\"><pre>0</pre></div></td></tr></tbody></table></div></details></td></tr><tr><td>13</td><td><details class=\"dni-treeview\"><summary><span class=\"dni-code-hint\"><code>MeterSet, leading, trailing: 13, 0, 0</code></span></summary><div><table><thead><tr></tr></thead><tbody><tr><td>MeterSet</td><td><div class=\"dni-plaintext\"><pre>13</pre></div></td></tr><tr><td>LeadingLeafPos</td><td><div class=\"dni-plaintext\"><pre>0</pre></div></td></tr><tr><td>TrailingLeafPos</td><td><div class=\"dni-plaintext\"><pre>0</pre></div></td></tr></tbody></table></div></details></td></tr><tr><td>14</td><td><details class=\"dni-treeview\"><summary><span class=\"dni-code-hint\"><code>MeterSet, leading, trailing: 14, 0, 0</code></span></summary><div><table><thead><tr></tr></thead><tbody><tr><td>MeterSet</td><td><div class=\"dni-plaintext\"><pre>14</pre></div></td></tr><tr><td>LeadingLeafPos</td><td><div class=\"dni-plaintext\"><pre>0</pre></div></td></tr><tr><td>TrailingLeafPos</td><td><div class=\"dni-plaintext\"><pre>0</pre></div></td></tr></tbody></table></div></details></td></tr><tr><td>15</td><td><details class=\"dni-treeview\"><summary><span class=\"dni-code-hint\"><code>MeterSet, leading, trailing: 15, 0, 0</code></span></summary><div><table><thead><tr></tr></thead><tbody><tr><td>MeterSet</td><td><div class=\"dni-plaintext\"><pre>15</pre></div></td></tr><tr><td>LeadingLeafPos</td><td><div class=\"dni-plaintext\"><pre>0</pre></div></td></tr><tr><td>TrailingLeafPos</td><td><div class=\"dni-plaintext\"><pre>0</pre></div></td></tr></tbody></table></div></details></td></tr><tr><td>16</td><td><details class=\"dni-treeview\"><summary><span class=\"dni-code-hint\"><code>MeterSet, leading, trailing: 16, 0, 0</code></span></summary><div><table><thead><tr></tr></thead><tbody><tr><td>MeterSet</td><td><div class=\"dni-plaintext\"><pre>16</pre></div></td></tr><tr><td>LeadingLeafPos</td><td><div class=\"dni-plaintext\"><pre>0</pre></div></td></tr><tr><td>TrailingLeafPos</td><td><div class=\"dni-plaintext\"><pre>0</pre></div></td></tr></tbody></table></div></details></td></tr><tr><td>17</td><td><details class=\"dni-treeview\"><summary><span class=\"dni-code-hint\"><code>MeterSet, leading, trailing: 17, 0, 0</code></span></summary><div><table><thead><tr></tr></thead><tbody><tr><td>MeterSet</td><td><div class=\"dni-plaintext\"><pre>17</pre></div></td></tr><tr><td>LeadingLeafPos</td><td><div class=\"dni-plaintext\"><pre>0</pre></div></td></tr><tr><td>TrailingLeafPos</td><td><div class=\"dni-plaintext\"><pre>0</pre></div></td></tr></tbody></table></div></details></td></tr><tr><td>18</td><td><details class=\"dni-treeview\"><summary><span class=\"dni-code-hint\"><code>MeterSet, leading, trailing: 18, 0, 0</code></span></summary><div><table><thead><tr></tr></thead><tbody><tr><td>MeterSet</td><td><div class=\"dni-plaintext\"><pre>18</pre></div></td></tr><tr><td>LeadingLeafPos</td><td><div class=\"dni-plaintext\"><pre>0</pre></div></td></tr><tr><td>TrailingLeafPos</td><td><div class=\"dni-plaintext\"><pre>0</pre></div></td></tr></tbody></table></div></details></td></tr><tr><td>19</td><td><details class=\"dni-treeview\"><summary><span class=\"dni-code-hint\"><code>MeterSet, leading, trailing: 19, 0, 0</code></span></summary><div><table><thead><tr></tr></thead><tbody><tr><td>MeterSet</td><td><div class=\"dni-plaintext\"><pre>19</pre></div></td></tr><tr><td>LeadingLeafPos</td><td><div class=\"dni-plaintext\"><pre>0</pre></div></td></tr><tr><td>TrailingLeafPos</td><td><div class=\"dni-plaintext\"><pre>0</pre></div></td></tr></tbody></table></div></details></td></tr><tr><td colspan=\"2\"><i>(479 more)</i></td></tr></tbody></table></td></tr><tr><td>1</td><td><table><thead><tr><th><i>index</i></th><th>value</th></tr></thead><tbody><tr><td>0</td><td><details class=\"dni-treeview\"><summary><span class=\"dni-code-hint\"><code>MeterSet, leading, trailing: 0, 5, 7</code></span></summary><div><table><thead><tr></tr></thead><tbody><tr><td>MeterSet</td><td><div class=\"dni-plaintext\"><pre>0</pre></div></td></tr><tr><td>LeadingLeafPos</td><td><div class=\"dni-plaintext\"><pre>5</pre></div></td></tr><tr><td>TrailingLeafPos</td><td><div class=\"dni-plaintext\"><pre>7</pre></div></td></tr></tbody></table></div></details></td></tr><tr><td>1</td><td><details class=\"dni-treeview\"><summary><span class=\"dni-code-hint\"><code>MeterSet, leading, trailing: 1, 5, 7</code></span></summary><div><table><thead><tr></tr></thead><tbody><tr><td>MeterSet</td><td><div class=\"dni-plaintext\"><pre>1</pre></div></td></tr><tr><td>LeadingLeafPos</td><td><div class=\"dni-plaintext\"><pre>5</pre></div></td></tr><tr><td>TrailingLeafPos</td><td><div class=\"dni-plaintext\"><pre>7</pre></div></td></tr></tbody></table></div></details></td></tr><tr><td>2</td><td><details class=\"dni-treeview\"><summary><span class=\"dni-code-hint\"><code>MeterSet, leading, trailing: 2, 5, 7</code></span></summary><div><table><thead><tr></tr></thead><tbody><tr><td>MeterSet</td><td><div class=\"dni-plaintext\"><pre>2</pre></div></td></tr><tr><td>LeadingLeafPos</td><td><div class=\"dni-plaintext\"><pre>5</pre></div></td></tr><tr><td>TrailingLeafPos</td><td><div class=\"dni-plaintext\"><pre>7</pre></div></td></tr></tbody></table></div></details></td></tr><tr><td>3</td><td><details class=\"dni-treeview\"><summary><span class=\"dni-code-hint\"><code>MeterSet, leading, trailing: 3, 2, 6</code></span></summary><div><table><thead><tr></tr></thead><tbody><tr><td>MeterSet</td><td><div class=\"dni-plaintext\"><pre>3</pre></div></td></tr><tr><td>LeadingLeafPos</td><td><div class=\"dni-plaintext\"><pre>2</pre></div></td></tr><tr><td>TrailingLeafPos</td><td><div class=\"dni-plaintext\"><pre>6</pre></div></td></tr></tbody></table></div></details></td></tr><tr><td>4</td><td><details class=\"dni-treeview\"><summary><span class=\"dni-code-hint\"><code>MeterSet, leading, trailing: 4, 2, 4</code></span></summary><div><table><thead><tr></tr></thead><tbody><tr><td>MeterSet</td><td><div class=\"dni-plaintext\"><pre>4</pre></div></td></tr><tr><td>LeadingLeafPos</td><td><div class=\"dni-plaintext\"><pre>2</pre></div></td></tr><tr><td>TrailingLeafPos</td><td><div class=\"dni-plaintext\"><pre>4</pre></div></td></tr></tbody></table></div></details></td></tr><tr><td>5</td><td><details class=\"dni-treeview\"><summary><span class=\"dni-code-hint\"><code>MeterSet, leading, trailing: 5, 1, 4</code></span></summary><div><table><thead><tr></tr></thead><tbody><tr><td>MeterSet</td><td><div class=\"dni-plaintext\"><pre>5</pre></div></td></tr><tr><td>LeadingLeafPos</td><td><div class=\"dni-plaintext\"><pre>1</pre></div></td></tr><tr><td>TrailingLeafPos</td><td><div class=\"dni-plaintext\"><pre>4</pre></div></td></tr></tbody></table></div></details></td></tr><tr><td>6</td><td><details class=\"dni-treeview\"><summary><span class=\"dni-code-hint\"><code>MeterSet, leading, trailing: 6, 0, 3</code></span></summary><div><table><thead><tr></tr></thead><tbody><tr><td>MeterSet</td><td><div class=\"dni-plaintext\"><pre>6</pre></div></td></tr><tr><td>LeadingLeafPos</td><td><div class=\"dni-plaintext\"><pre>0</pre></div></td></tr><tr><td>TrailingLeafPos</td><td><div class=\"dni-plaintext\"><pre>3</pre></div></td></tr></tbody></table></div></details></td></tr><tr><td>7</td><td><details class=\"dni-treeview\"><summary><span class=\"dni-code-hint\"><code>MeterSet, leading, trailing: 7, 0, 0</code></span></summary><div><table><thead><tr></tr></thead><tbody><tr><td>MeterSet</td><td><div class=\"dni-plaintext\"><pre>7</pre></div></td></tr><tr><td>LeadingLeafPos</td><td><div class=\"dni-plaintext\"><pre>0</pre></div></td></tr><tr><td>TrailingLeafPos</td><td><div class=\"dni-plaintext\"><pre>0</pre></div></td></tr></tbody></table></div></details></td></tr><tr><td>8</td><td><details class=\"dni-treeview\"><summary><span class=\"dni-code-hint\"><code>MeterSet, leading, trailing: 8, 0, 0</code></span></summary><div><table><thead><tr></tr></thead><tbody><tr><td>MeterSet</td><td><div class=\"dni-plaintext\"><pre>8</pre></div></td></tr><tr><td>LeadingLeafPos</td><td><div class=\"dni-plaintext\"><pre>0</pre></div></td></tr><tr><td>TrailingLeafPos</td><td><div class=\"dni-plaintext\"><pre>0</pre></div></td></tr></tbody></table></div></details></td></tr><tr><td>9</td><td><details class=\"dni-treeview\"><summary><span class=\"dni-code-hint\"><code>MeterSet, leading, trailing: 9, 0, 0</code></span></summary><div><table><thead><tr></tr></thead><tbody><tr><td>MeterSet</td><td><div class=\"dni-plaintext\"><pre>9</pre></div></td></tr><tr><td>LeadingLeafPos</td><td><div class=\"dni-plaintext\"><pre>0</pre></div></td></tr><tr><td>TrailingLeafPos</td><td><div class=\"dni-plaintext\"><pre>0</pre></div></td></tr></tbody></table></div></details></td></tr><tr><td>10</td><td><details class=\"dni-treeview\"><summary><span class=\"dni-code-hint\"><code>MeterSet, leading, trailing: 10, 0, 0</code></span></summary><div><table><thead><tr></tr></thead><tbody><tr><td>MeterSet</td><td><div class=\"dni-plaintext\"><pre>10</pre></div></td></tr><tr><td>LeadingLeafPos</td><td><div class=\"dni-plaintext\"><pre>0</pre></div></td></tr><tr><td>TrailingLeafPos</td><td><div class=\"dni-plaintext\"><pre>0</pre></div></td></tr></tbody></table></div></details></td></tr><tr><td>11</td><td><details class=\"dni-treeview\"><summary><span class=\"dni-code-hint\"><code>MeterSet, leading, trailing: 11, 0, 0</code></span></summary><div><table><thead><tr></tr></thead><tbody><tr><td>MeterSet</td><td><div class=\"dni-plaintext\"><pre>11</pre></div></td></tr><tr><td>LeadingLeafPos</td><td><div class=\"dni-plaintext\"><pre>0</pre></div></td></tr><tr><td>TrailingLeafPos</td><td><div class=\"dni-plaintext\"><pre>0</pre></div></td></tr></tbody></table></div></details></td></tr><tr><td>12</td><td><details class=\"dni-treeview\"><summary><span class=\"dni-code-hint\"><code>MeterSet, leading, trailing: 12, 0, 0</code></span></summary><div><table><thead><tr></tr></thead><tbody><tr><td>MeterSet</td><td><div class=\"dni-plaintext\"><pre>12</pre></div></td></tr><tr><td>LeadingLeafPos</td><td><div class=\"dni-plaintext\"><pre>0</pre></div></td></tr><tr><td>TrailingLeafPos</td><td><div class=\"dni-plaintext\"><pre>0</pre></div></td></tr></tbody></table></div></details></td></tr><tr><td>13</td><td><details class=\"dni-treeview\"><summary><span class=\"dni-code-hint\"><code>MeterSet, leading, trailing: 13, 0, 0</code></span></summary><div><table><thead><tr></tr></thead><tbody><tr><td>MeterSet</td><td><div class=\"dni-plaintext\"><pre>13</pre></div></td></tr><tr><td>LeadingLeafPos</td><td><div class=\"dni-plaintext\"><pre>0</pre></div></td></tr><tr><td>TrailingLeafPos</td><td><div class=\"dni-plaintext\"><pre>0</pre></div></td></tr></tbody></table></div></details></td></tr><tr><td>14</td><td><details class=\"dni-treeview\"><summary><span class=\"dni-code-hint\"><code>MeterSet, leading, trailing: 14, 0, 0</code></span></summary><div><table><thead><tr></tr></thead><tbody><tr><td>MeterSet</td><td><div class=\"dni-plaintext\"><pre>14</pre></div></td></tr><tr><td>LeadingLeafPos</td><td><div class=\"dni-plaintext\"><pre>0</pre></div></td></tr><tr><td>TrailingLeafPos</td><td><div class=\"dni-plaintext\"><pre>0</pre></div></td></tr></tbody></table></div></details></td></tr><tr><td>15</td><td><details class=\"dni-treeview\"><summary><span class=\"dni-code-hint\"><code>MeterSet, leading, trailing: 15, 0, 0</code></span></summary><div><table><thead><tr></tr></thead><tbody><tr><td>MeterSet</td><td><div class=\"dni-plaintext\"><pre>15</pre></div></td></tr><tr><td>LeadingLeafPos</td><td><div class=\"dni-plaintext\"><pre>0</pre></div></td></tr><tr><td>TrailingLeafPos</td><td><div class=\"dni-plaintext\"><pre>0</pre></div></td></tr></tbody></table></div></details></td></tr><tr><td>16</td><td><details class=\"dni-treeview\"><summary><span class=\"dni-code-hint\"><code>MeterSet, leading, trailing: 16, 0, 0</code></span></summary><div><table><thead><tr></tr></thead><tbody><tr><td>MeterSet</td><td><div class=\"dni-plaintext\"><pre>16</pre></div></td></tr><tr><td>LeadingLeafPos</td><td><div class=\"dni-plaintext\"><pre>0</pre></div></td></tr><tr><td>TrailingLeafPos</td><td><div class=\"dni-plaintext\"><pre>0</pre></div></td></tr></tbody></table></div></details></td></tr><tr><td>17</td><td><details class=\"dni-treeview\"><summary><span class=\"dni-code-hint\"><code>MeterSet, leading, trailing: 17, 0, 0</code></span></summary><div><table><thead><tr></tr></thead><tbody><tr><td>MeterSet</td><td><div class=\"dni-plaintext\"><pre>17</pre></div></td></tr><tr><td>LeadingLeafPos</td><td><div class=\"dni-plaintext\"><pre>0</pre></div></td></tr><tr><td>TrailingLeafPos</td><td><div class=\"dni-plaintext\"><pre>0</pre></div></td></tr></tbody></table></div></details></td></tr><tr><td>18</td><td><details class=\"dni-treeview\"><summary><span class=\"dni-code-hint\"><code>MeterSet, leading, trailing: 18, 0, 0</code></span></summary><div><table><thead><tr></tr></thead><tbody><tr><td>MeterSet</td><td><div class=\"dni-plaintext\"><pre>18</pre></div></td></tr><tr><td>LeadingLeafPos</td><td><div class=\"dni-plaintext\"><pre>0</pre></div></td></tr><tr><td>TrailingLeafPos</td><td><div class=\"dni-plaintext\"><pre>0</pre></div></td></tr></tbody></table></div></details></td></tr><tr><td>19</td><td><details class=\"dni-treeview\"><summary><span class=\"dni-code-hint\"><code>MeterSet, leading, trailing: 19, 0, 0</code></span></summary><div><table><thead><tr></tr></thead><tbody><tr><td>MeterSet</td><td><div class=\"dni-plaintext\"><pre>19</pre></div></td></tr><tr><td>LeadingLeafPos</td><td><div class=\"dni-plaintext\"><pre>0</pre></div></td></tr><tr><td>TrailingLeafPos</td><td><div class=\"dni-plaintext\"><pre>0</pre></div></td></tr></tbody></table></div></details></td></tr><tr><td colspan=\"2\"><i>(479 more)</i></td></tr></tbody></table></td></tr></tbody></table><style>\r\n",
       ".dni-code-hint {\r\n",
       "    font-style: italic;\r\n",
       "    overflow: hidden;\r\n",
       "    white-space: nowrap;\r\n",
       "}\r\n",
       ".dni-treeview {\r\n",
       "    white-space: nowrap;\r\n",
       "}\r\n",
       ".dni-treeview td {\r\n",
       "    vertical-align: top;\r\n",
       "    text-align: start;\r\n",
       "}\r\n",
       "details.dni-treeview {\r\n",
       "    padding-left: 1em;\r\n",
       "}\r\n",
       "table td {\r\n",
       "    text-align: start;\r\n",
       "}\r\n",
       "table tr { \r\n",
       "    vertical-align: top; \r\n",
       "    margin: 0em 0px;\r\n",
       "}\r\n",
       "table tr td pre \r\n",
       "{ \r\n",
       "    vertical-align: top !important; \r\n",
       "    margin: 0em 0px !important;\r\n",
       "} \r\n",
       "table th {\r\n",
       "    text-align: start;\r\n",
       "}\r\n",
       "</style>"
      ]
     },
     "metadata": {},
     "output_type": "display_data"
    }
   ],
   "source": [
    "tables"
   ]
  },
  {
   "cell_type": "code",
   "execution_count": 85,
   "metadata": {
    "dotnet_interactive": {
     "language": "csharp"
    },
    "polyglot_notebook": {
     "kernelName": "csharp"
    },
    "vscode": {
     "languageId": "polyglot-notebook"
    }
   },
   "outputs": [
    {
     "data": {
      "text/html": [
       "<div class=\"dni-plaintext\"><pre>0</pre></div><style>\r\n",
       ".dni-code-hint {\r\n",
       "    font-style: italic;\r\n",
       "    overflow: hidden;\r\n",
       "    white-space: nowrap;\r\n",
       "}\r\n",
       ".dni-treeview {\r\n",
       "    white-space: nowrap;\r\n",
       "}\r\n",
       ".dni-treeview td {\r\n",
       "    vertical-align: top;\r\n",
       "    text-align: start;\r\n",
       "}\r\n",
       "details.dni-treeview {\r\n",
       "    padding-left: 1em;\r\n",
       "}\r\n",
       "table td {\r\n",
       "    text-align: start;\r\n",
       "}\r\n",
       "table tr { \r\n",
       "    vertical-align: top; \r\n",
       "    margin: 0em 0px;\r\n",
       "}\r\n",
       "table tr td pre \r\n",
       "{ \r\n",
       "    vertical-align: top !important; \r\n",
       "    margin: 0em 0px !important;\r\n",
       "} \r\n",
       "table th {\r\n",
       "    text-align: start;\r\n",
       "}\r\n",
       "</style>"
      ]
     },
     "metadata": {},
     "output_type": "display_data"
    }
   ],
   "source": [
    "(int) 0.5"
   ]
  },
  {
   "cell_type": "code",
   "execution_count": null,
   "metadata": {
    "dotnet_interactive": {
     "language": "csharp"
    },
    "polyglot_notebook": {
     "kernelName": "csharp"
    },
    "vscode": {
     "languageId": "polyglot-notebook"
    }
   },
   "outputs": [],
   "source": []
  }
 ],
 "metadata": {
  "kernelspec": {
   "display_name": "Python 3",
   "language": "python",
   "name": "python3"
  },
  "language_info": {
   "name": "python",
   "version": "3.9.6"
  },
  "polyglot_notebook": {
   "kernelInfo": {
    "defaultKernelName": "csharp",
    "items": [
     {
      "aliases": [],
      "languageName": "csharp",
      "name": "csharp"
     }
    ]
   }
  }
 },
 "nbformat": 4,
 "nbformat_minor": 2
}
