{
 "cells": [
  {
   "cell_type": "code",
   "execution_count": 24,
   "metadata": {
    "dotnet_interactive": {
     "language": "csharp"
    },
    "polyglot_notebook": {
     "kernelName": "csharp"
    },
    "vscode": {
     "languageId": "polyglot-notebook"
    }
   },
   "outputs": [],
   "source": [
    "#!import portraitprintingdmlc/PortraitPrintingDmlc.cs"
   ]
  },
  {
   "cell_type": "code",
   "execution_count": 25,
   "metadata": {
    "dotnet_interactive": {
     "language": "csharp"
    },
    "polyglot_notebook": {
     "kernelName": "csharp"
    },
    "vscode": {
     "languageId": "polyglot-notebook"
    }
   },
   "outputs": [
    {
     "data": {
      "text/html": [
       "<table><thead><tr><th><i>index</i></th><th>value</th></tr></thead><tbody><tr><td>0</td><td><details class=\"dni-treeview\"><summary><span class=\"dni-code-hint\"><code>MeterSet, leading, trailing: 0, 0.5, 0.7000000000000001</code></span></summary><div><table><thead><tr></tr></thead><tbody><tr><td>MeterSet</td><td><div class=\"dni-plaintext\"><pre>0</pre></div></td></tr><tr><td>LeadingLeafPos</td><td><div class=\"dni-plaintext\"><pre>0.5</pre></div></td></tr><tr><td>TrailingLeafPos</td><td><div class=\"dni-plaintext\"><pre>0.7000000000000001</pre></div></td></tr></tbody></table></div></details></td></tr><tr><td>1</td><td><details class=\"dni-treeview\"><summary><span class=\"dni-code-hint\"><code>MeterSet, leading, trailing: 0.14285714285714285, 0.5, 0.7000000000000001</code></span></summary><div><table><thead><tr></tr></thead><tbody><tr><td>MeterSet</td><td><div class=\"dni-plaintext\"><pre>0.14285714285714285</pre></div></td></tr><tr><td>LeadingLeafPos</td><td><div class=\"dni-plaintext\"><pre>0.5</pre></div></td></tr><tr><td>TrailingLeafPos</td><td><div class=\"dni-plaintext\"><pre>0.7000000000000001</pre></div></td></tr></tbody></table></div></details></td></tr><tr><td>2</td><td><details class=\"dni-treeview\"><summary><span class=\"dni-code-hint\"><code>MeterSet, leading, trailing: 0.2857142857142857, 0.5, 0.7000000000000001</code></span></summary><div><table><thead><tr></tr></thead><tbody><tr><td>MeterSet</td><td><div class=\"dni-plaintext\"><pre>0.2857142857142857</pre></div></td></tr><tr><td>LeadingLeafPos</td><td><div class=\"dni-plaintext\"><pre>0.5</pre></div></td></tr><tr><td>TrailingLeafPos</td><td><div class=\"dni-plaintext\"><pre>0.7000000000000001</pre></div></td></tr></tbody></table></div></details></td></tr><tr><td>3</td><td><details class=\"dni-treeview\"><summary><span class=\"dni-code-hint\"><code>MeterSet, leading, trailing: 0.42857142857142855, 0.5, 0.7000000000000001</code></span></summary><div><table><thead><tr></tr></thead><tbody><tr><td>MeterSet</td><td><div class=\"dni-plaintext\"><pre>0.42857142857142855</pre></div></td></tr><tr><td>LeadingLeafPos</td><td><div class=\"dni-plaintext\"><pre>0.5</pre></div></td></tr><tr><td>TrailingLeafPos</td><td><div class=\"dni-plaintext\"><pre>0.7000000000000001</pre></div></td></tr></tbody></table></div></details></td></tr><tr><td>4</td><td><details class=\"dni-treeview\"><summary><span class=\"dni-code-hint\"><code>MeterSet, leading, trailing: 0.5714285714285714, 0.2, 0.6000000000000001</code></span></summary><div><table><thead><tr></tr></thead><tbody><tr><td>MeterSet</td><td><div class=\"dni-plaintext\"><pre>0.5714285714285714</pre></div></td></tr><tr><td>LeadingLeafPos</td><td><div class=\"dni-plaintext\"><pre>0.2</pre></div></td></tr><tr><td>TrailingLeafPos</td><td><div class=\"dni-plaintext\"><pre>0.6000000000000001</pre></div></td></tr></tbody></table></div></details></td></tr><tr><td>5</td><td><details class=\"dni-treeview\"><summary><span class=\"dni-code-hint\"><code>MeterSet, leading, trailing: 0.7142857142857142, 0.2, 0.4</code></span></summary><div><table><thead><tr></tr></thead><tbody><tr><td>MeterSet</td><td><div class=\"dni-plaintext\"><pre>0.7142857142857142</pre></div></td></tr><tr><td>LeadingLeafPos</td><td><div class=\"dni-plaintext\"><pre>0.2</pre></div></td></tr><tr><td>TrailingLeafPos</td><td><div class=\"dni-plaintext\"><pre>0.4</pre></div></td></tr></tbody></table></div></details></td></tr><tr><td>6</td><td><details class=\"dni-treeview\"><summary><span class=\"dni-code-hint\"><code>MeterSet, leading, trailing: 0.857142857142857, 0.1, 0.4</code></span></summary><div><table><thead><tr></tr></thead><tbody><tr><td>MeterSet</td><td><div class=\"dni-plaintext\"><pre>0.857142857142857</pre></div></td></tr><tr><td>LeadingLeafPos</td><td><div class=\"dni-plaintext\"><pre>0.1</pre></div></td></tr><tr><td>TrailingLeafPos</td><td><div class=\"dni-plaintext\"><pre>0.4</pre></div></td></tr></tbody></table></div></details></td></tr><tr><td>7</td><td><details class=\"dni-treeview\"><summary><span class=\"dni-code-hint\"><code>MeterSet, leading, trailing: 0.9999999999999998, 0, 0.30000000000000004</code></span></summary><div><table><thead><tr></tr></thead><tbody><tr><td>MeterSet</td><td><div class=\"dni-plaintext\"><pre>0.9999999999999998</pre></div></td></tr><tr><td>LeadingLeafPos</td><td><div class=\"dni-plaintext\"><pre>0</pre></div></td></tr><tr><td>TrailingLeafPos</td><td><div class=\"dni-plaintext\"><pre>0.30000000000000004</pre></div></td></tr></tbody></table></div></details></td></tr></tbody></table><style>\r\n",
       ".dni-code-hint {\r\n",
       "    font-style: italic;\r\n",
       "    overflow: hidden;\r\n",
       "    white-space: nowrap;\r\n",
       "}\r\n",
       ".dni-treeview {\r\n",
       "    white-space: nowrap;\r\n",
       "}\r\n",
       ".dni-treeview td {\r\n",
       "    vertical-align: top;\r\n",
       "    text-align: start;\r\n",
       "}\r\n",
       "details.dni-treeview {\r\n",
       "    padding-left: 1em;\r\n",
       "}\r\n",
       "table td {\r\n",
       "    text-align: start;\r\n",
       "}\r\n",
       "table tr { \r\n",
       "    vertical-align: top; \r\n",
       "    margin: 0em 0px;\r\n",
       "}\r\n",
       "table tr td pre \r\n",
       "{ \r\n",
       "    vertical-align: top !important; \r\n",
       "    margin: 0em 0px !important;\r\n",
       "} \r\n",
       "table th {\r\n",
       "    text-align: start;\r\n",
       "}\r\n",
       "</style>"
      ]
     },
     "metadata": {},
     "output_type": "display_data"
    }
   ],
   "source": [
    "var pair = new MlcSequencer(new List<double>{1,2,4,3,1,4,3});\n",
    "double incrementalMU = (double) 1.0/7.0;\n",
    "double restLeafPosition = 0;\n",
    "\n",
    "var table = WriteTrajectoryTable(incrementalMU, pair, restLeafPosition);\n",
    "table"
   ]
  },
  {
   "cell_type": "code",
   "execution_count": 45,
   "metadata": {
    "dotnet_interactive": {
     "language": "csharp"
    },
    "polyglot_notebook": {
     "kernelName": "csharp"
    },
    "vscode": {
     "languageId": "polyglot-notebook"
    }
   },
   "outputs": [
    {
     "name": "stdout",
     "output_type": "stream",
     "text": [
      "new image size: 140 x 42\n",
      "new image resolution: 96.01199, 22.654514\n"
     ]
    }
   ],
   "source": [
    "var arr = ImageDigitizer.Digitize(\"./images/rw.bmp\");\n",
    "var row = Enumerable.Range(0, arr.GetLength(1)).Select(x=>arr[21, x]).ToList();\n",
    "pair = new MlcSequencer(row);\n",
    "double incrementalMU = (double) 1/738;\n",
    "double restLeafPosition = 0;\n",
    "table = WriteTrajectoryTable(incrementalMU, pair, restLeafPosition);"
   ]
  },
  {
   "cell_type": "code",
   "execution_count": 54,
   "metadata": {
    "dotnet_interactive": {
     "language": "csharp"
    },
    "polyglot_notebook": {
     "kernelName": "csharp"
    },
    "vscode": {
     "languageId": "polyglot-notebook"
    }
   },
   "outputs": [
    {
     "data": {
      "text/html": [
       "<table><thead><tr><th><i>index</i></th><th>value</th></tr></thead><tbody><tr><td>0</td><td><details class=\"dni-treeview\"><summary><span class=\"dni-code-hint\"><code>MeterSet, leading, trailing: 0.9214092140921276, 1.1, 2.5</code></span></summary><div><table><thead><tr></tr></thead><tbody><tr><td>MeterSet</td><td><div class=\"dni-plaintext\"><pre>0.9214092140921276</pre></div></td></tr><tr><td>LeadingLeafPos</td><td><div class=\"dni-plaintext\"><pre>1.1</pre></div></td></tr><tr><td>TrailingLeafPos</td><td><div class=\"dni-plaintext\"><pre>2.5</pre></div></td></tr></tbody></table></div></details></td></tr><tr><td>1</td><td><details class=\"dni-treeview\"><summary><span class=\"dni-code-hint\"><code>MeterSet, leading, trailing: 0.9227642276422631, 1.1, 2.5</code></span></summary><div><table><thead><tr></tr></thead><tbody><tr><td>MeterSet</td><td><div class=\"dni-plaintext\"><pre>0.9227642276422631</pre></div></td></tr><tr><td>LeadingLeafPos</td><td><div class=\"dni-plaintext\"><pre>1.1</pre></div></td></tr><tr><td>TrailingLeafPos</td><td><div class=\"dni-plaintext\"><pre>2.5</pre></div></td></tr></tbody></table></div></details></td></tr><tr><td>2</td><td><details class=\"dni-treeview\"><summary><span class=\"dni-code-hint\"><code>MeterSet, leading, trailing: 0.9241192411923985, 1.1, 2.5</code></span></summary><div><table><thead><tr></tr></thead><tbody><tr><td>MeterSet</td><td><div class=\"dni-plaintext\"><pre>0.9241192411923985</pre></div></td></tr><tr><td>LeadingLeafPos</td><td><div class=\"dni-plaintext\"><pre>1.1</pre></div></td></tr><tr><td>TrailingLeafPos</td><td><div class=\"dni-plaintext\"><pre>2.5</pre></div></td></tr></tbody></table></div></details></td></tr><tr><td>3</td><td><details class=\"dni-treeview\"><summary><span class=\"dni-code-hint\"><code>MeterSet, leading, trailing: 0.925474254742534, 1.1, 2.5</code></span></summary><div><table><thead><tr></tr></thead><tbody><tr><td>MeterSet</td><td><div class=\"dni-plaintext\"><pre>0.925474254742534</pre></div></td></tr><tr><td>LeadingLeafPos</td><td><div class=\"dni-plaintext\"><pre>1.1</pre></div></td></tr><tr><td>TrailingLeafPos</td><td><div class=\"dni-plaintext\"><pre>2.5</pre></div></td></tr></tbody></table></div></details></td></tr><tr><td>4</td><td><details class=\"dni-treeview\"><summary><span class=\"dni-code-hint\"><code>MeterSet, leading, trailing: 0.9268292682926694, 1.1, 2.5</code></span></summary><div><table><thead><tr></tr></thead><tbody><tr><td>MeterSet</td><td><div class=\"dni-plaintext\"><pre>0.9268292682926694</pre></div></td></tr><tr><td>LeadingLeafPos</td><td><div class=\"dni-plaintext\"><pre>1.1</pre></div></td></tr><tr><td>TrailingLeafPos</td><td><div class=\"dni-plaintext\"><pre>2.5</pre></div></td></tr></tbody></table></div></details></td></tr><tr><td>5</td><td><details class=\"dni-treeview\"><summary><span class=\"dni-code-hint\"><code>MeterSet, leading, trailing: 0.9281842818428049, 1.1, 2.5</code></span></summary><div><table><thead><tr></tr></thead><tbody><tr><td>MeterSet</td><td><div class=\"dni-plaintext\"><pre>0.9281842818428049</pre></div></td></tr><tr><td>LeadingLeafPos</td><td><div class=\"dni-plaintext\"><pre>1.1</pre></div></td></tr><tr><td>TrailingLeafPos</td><td><div class=\"dni-plaintext\"><pre>2.5</pre></div></td></tr></tbody></table></div></details></td></tr><tr><td>6</td><td><details class=\"dni-treeview\"><summary><span class=\"dni-code-hint\"><code>MeterSet, leading, trailing: 0.9295392953929403, 1.1, 2.5</code></span></summary><div><table><thead><tr></tr></thead><tbody><tr><td>MeterSet</td><td><div class=\"dni-plaintext\"><pre>0.9295392953929403</pre></div></td></tr><tr><td>LeadingLeafPos</td><td><div class=\"dni-plaintext\"><pre>1.1</pre></div></td></tr><tr><td>TrailingLeafPos</td><td><div class=\"dni-plaintext\"><pre>2.5</pre></div></td></tr></tbody></table></div></details></td></tr><tr><td>7</td><td><details class=\"dni-treeview\"><summary><span class=\"dni-code-hint\"><code>MeterSet, leading, trailing: 0.9308943089430758, 1.1, 2.5</code></span></summary><div><table><thead><tr></tr></thead><tbody><tr><td>MeterSet</td><td><div class=\"dni-plaintext\"><pre>0.9308943089430758</pre></div></td></tr><tr><td>LeadingLeafPos</td><td><div class=\"dni-plaintext\"><pre>1.1</pre></div></td></tr><tr><td>TrailingLeafPos</td><td><div class=\"dni-plaintext\"><pre>2.5</pre></div></td></tr></tbody></table></div></details></td></tr><tr><td>8</td><td><details class=\"dni-treeview\"><summary><span class=\"dni-code-hint\"><code>MeterSet, leading, trailing: 0.9322493224932112, 1.1, 2.5</code></span></summary><div><table><thead><tr></tr></thead><tbody><tr><td>MeterSet</td><td><div class=\"dni-plaintext\"><pre>0.9322493224932112</pre></div></td></tr><tr><td>LeadingLeafPos</td><td><div class=\"dni-plaintext\"><pre>1.1</pre></div></td></tr><tr><td>TrailingLeafPos</td><td><div class=\"dni-plaintext\"><pre>2.5</pre></div></td></tr></tbody></table></div></details></td></tr><tr><td>9</td><td><details class=\"dni-treeview\"><summary><span class=\"dni-code-hint\"><code>MeterSet, leading, trailing: 0.9336043360433467, 1.1, 2.2</code></span></summary><div><table><thead><tr></tr></thead><tbody><tr><td>MeterSet</td><td><div class=\"dni-plaintext\"><pre>0.9336043360433467</pre></div></td></tr><tr><td>LeadingLeafPos</td><td><div class=\"dni-plaintext\"><pre>1.1</pre></div></td></tr><tr><td>TrailingLeafPos</td><td><div class=\"dni-plaintext\"><pre>2.2</pre></div></td></tr></tbody></table></div></details></td></tr><tr><td>10</td><td><details class=\"dni-treeview\"><summary><span class=\"dni-code-hint\"><code>MeterSet, leading, trailing: 0.9349593495934821, 1.1, 2.2</code></span></summary><div><table><thead><tr></tr></thead><tbody><tr><td>MeterSet</td><td><div class=\"dni-plaintext\"><pre>0.9349593495934821</pre></div></td></tr><tr><td>LeadingLeafPos</td><td><div class=\"dni-plaintext\"><pre>1.1</pre></div></td></tr><tr><td>TrailingLeafPos</td><td><div class=\"dni-plaintext\"><pre>2.2</pre></div></td></tr></tbody></table></div></details></td></tr><tr><td>11</td><td><details class=\"dni-treeview\"><summary><span class=\"dni-code-hint\"><code>MeterSet, leading, trailing: 0.9363143631436176, 1.1, 2.2</code></span></summary><div><table><thead><tr></tr></thead><tbody><tr><td>MeterSet</td><td><div class=\"dni-plaintext\"><pre>0.9363143631436176</pre></div></td></tr><tr><td>LeadingLeafPos</td><td><div class=\"dni-plaintext\"><pre>1.1</pre></div></td></tr><tr><td>TrailingLeafPos</td><td><div class=\"dni-plaintext\"><pre>2.2</pre></div></td></tr></tbody></table></div></details></td></tr><tr><td>12</td><td><details class=\"dni-treeview\"><summary><span class=\"dni-code-hint\"><code>MeterSet, leading, trailing: 0.937669376693753, 1.1, 2.2</code></span></summary><div><table><thead><tr></tr></thead><tbody><tr><td>MeterSet</td><td><div class=\"dni-plaintext\"><pre>0.937669376693753</pre></div></td></tr><tr><td>LeadingLeafPos</td><td><div class=\"dni-plaintext\"><pre>1.1</pre></div></td></tr><tr><td>TrailingLeafPos</td><td><div class=\"dni-plaintext\"><pre>2.2</pre></div></td></tr></tbody></table></div></details></td></tr><tr><td>13</td><td><details class=\"dni-treeview\"><summary><span class=\"dni-code-hint\"><code>MeterSet, leading, trailing: 0.9390243902438885, 1.1, 1.8</code></span></summary><div><table><thead><tr></tr></thead><tbody><tr><td>MeterSet</td><td><div class=\"dni-plaintext\"><pre>0.9390243902438885</pre></div></td></tr><tr><td>LeadingLeafPos</td><td><div class=\"dni-plaintext\"><pre>1.1</pre></div></td></tr><tr><td>TrailingLeafPos</td><td><div class=\"dni-plaintext\"><pre>1.8</pre></div></td></tr></tbody></table></div></details></td></tr><tr><td>14</td><td><details class=\"dni-treeview\"><summary><span class=\"dni-code-hint\"><code>MeterSet, leading, trailing: 0.940379403794024, 0.8, 0.9</code></span></summary><div><table><thead><tr></tr></thead><tbody><tr><td>MeterSet</td><td><div class=\"dni-plaintext\"><pre>0.940379403794024</pre></div></td></tr><tr><td>LeadingLeafPos</td><td><div class=\"dni-plaintext\"><pre>0.8</pre></div></td></tr><tr><td>TrailingLeafPos</td><td><div class=\"dni-plaintext\"><pre>0.9</pre></div></td></tr></tbody></table></div></details></td></tr><tr><td>15</td><td><details class=\"dni-treeview\"><summary><span class=\"dni-code-hint\"><code>MeterSet, leading, trailing: 0.9417344173441594, 0.8, 0.8</code></span></summary><div><table><thead><tr></tr></thead><tbody><tr><td>MeterSet</td><td><div class=\"dni-plaintext\"><pre>0.9417344173441594</pre></div></td></tr><tr><td>LeadingLeafPos</td><td><div class=\"dni-plaintext\"><pre>0.8</pre></div></td></tr><tr><td>TrailingLeafPos</td><td><div class=\"dni-plaintext\"><pre>0.8</pre></div></td></tr></tbody></table></div></details></td></tr><tr><td>16</td><td><details class=\"dni-treeview\"><summary><span class=\"dni-code-hint\"><code>MeterSet, leading, trailing: 0.9430894308942949, 0.6000000000000001, 0.6000000000000001</code></span></summary><div><table><thead><tr></tr></thead><tbody><tr><td>MeterSet</td><td><div class=\"dni-plaintext\"><pre>0.9430894308942949</pre></div></td></tr><tr><td>LeadingLeafPos</td><td><div class=\"dni-plaintext\"><pre>0.6000000000000001</pre></div></td></tr><tr><td>TrailingLeafPos</td><td><div class=\"dni-plaintext\"><pre>0.6000000000000001</pre></div></td></tr></tbody></table></div></details></td></tr><tr><td>17</td><td><details class=\"dni-treeview\"><summary><span class=\"dni-code-hint\"><code>MeterSet, leading, trailing: 0.9444444444444303, 0, 0</code></span></summary><div><table><thead><tr></tr></thead><tbody><tr><td>MeterSet</td><td><div class=\"dni-plaintext\"><pre>0.9444444444444303</pre></div></td></tr><tr><td>LeadingLeafPos</td><td><div class=\"dni-plaintext\"><pre>0</pre></div></td></tr><tr><td>TrailingLeafPos</td><td><div class=\"dni-plaintext\"><pre>0</pre></div></td></tr></tbody></table></div></details></td></tr><tr><td>18</td><td><details class=\"dni-treeview\"><summary><span class=\"dni-code-hint\"><code>MeterSet, leading, trailing: 0.9457994579945658, 0, 0</code></span></summary><div><table><thead><tr></tr></thead><tbody><tr><td>MeterSet</td><td><div class=\"dni-plaintext\"><pre>0.9457994579945658</pre></div></td></tr><tr><td>LeadingLeafPos</td><td><div class=\"dni-plaintext\"><pre>0</pre></div></td></tr><tr><td>TrailingLeafPos</td><td><div class=\"dni-plaintext\"><pre>0</pre></div></td></tr></tbody></table></div></details></td></tr><tr><td>19</td><td><details class=\"dni-treeview\"><summary><span class=\"dni-code-hint\"><code>MeterSet, leading, trailing: 0.9471544715447012, 0, 0</code></span></summary><div><table><thead><tr></tr></thead><tbody><tr><td>MeterSet</td><td><div class=\"dni-plaintext\"><pre>0.9471544715447012</pre></div></td></tr><tr><td>LeadingLeafPos</td><td><div class=\"dni-plaintext\"><pre>0</pre></div></td></tr><tr><td>TrailingLeafPos</td><td><div class=\"dni-plaintext\"><pre>0</pre></div></td></tr></tbody></table></div></details></td></tr><tr><td colspan=\"2\"><i>(20 more)</i></td></tr></tbody></table><style>\r\n",
       ".dni-code-hint {\r\n",
       "    font-style: italic;\r\n",
       "    overflow: hidden;\r\n",
       "    white-space: nowrap;\r\n",
       "}\r\n",
       ".dni-treeview {\r\n",
       "    white-space: nowrap;\r\n",
       "}\r\n",
       ".dni-treeview td {\r\n",
       "    vertical-align: top;\r\n",
       "    text-align: start;\r\n",
       "}\r\n",
       "details.dni-treeview {\r\n",
       "    padding-left: 1em;\r\n",
       "}\r\n",
       "table td {\r\n",
       "    text-align: start;\r\n",
       "}\r\n",
       "table tr { \r\n",
       "    vertical-align: top; \r\n",
       "    margin: 0em 0px;\r\n",
       "}\r\n",
       "table tr td pre \r\n",
       "{ \r\n",
       "    vertical-align: top !important; \r\n",
       "    margin: 0em 0px !important;\r\n",
       "} \r\n",
       "table th {\r\n",
       "    text-align: start;\r\n",
       "}\r\n",
       "</style>"
      ]
     },
     "metadata": {},
     "output_type": "display_data"
    }
   ],
   "source": [
    "table[680..720]"
   ]
  },
  {
   "cell_type": "code",
   "execution_count": 26,
   "metadata": {
    "dotnet_interactive": {
     "language": "csharp"
    },
    "polyglot_notebook": {
     "kernelName": "csharp"
    },
    "vscode": {
     "languageId": "polyglot-notebook"
    }
   },
   "outputs": [],
   "source": [
    "var parkedPair = new MlcSequencer(new List<double>{0});\n",
    "double incrementalMU = (double) 1.0/7.0;\n",
    "double restLeafPosition = 0;\n",
    "\n",
    "table = WriteTrajectoryTable(incrementalMU, parkedPair, restLeafPosition);"
   ]
  },
  {
   "cell_type": "code",
   "execution_count": 55,
   "metadata": {
    "vscode": {
     "languageId": "polyglot-notebook"
    }
   },
   "outputs": [
    {
     "data": {
      "text/html": [
       "<div class=\"dni-plaintext\"><pre>[ 1, 2, 4, 7, 26, 35, 47, 60, 72, 91, 108, 122, 137, 143, 163, 164, 176, 182, 187, 191 ... (44 more) ]</pre></div><style>\r\n",
       ".dni-code-hint {\r\n",
       "    font-style: italic;\r\n",
       "    overflow: hidden;\r\n",
       "    white-space: nowrap;\r\n",
       "}\r\n",
       ".dni-treeview {\r\n",
       "    white-space: nowrap;\r\n",
       "}\r\n",
       ".dni-treeview td {\r\n",
       "    vertical-align: top;\r\n",
       "    text-align: start;\r\n",
       "}\r\n",
       "details.dni-treeview {\r\n",
       "    padding-left: 1em;\r\n",
       "}\r\n",
       "table td {\r\n",
       "    text-align: start;\r\n",
       "}\r\n",
       "table tr { \r\n",
       "    vertical-align: top; \r\n",
       "    margin: 0em 0px;\r\n",
       "}\r\n",
       "table tr td pre \r\n",
       "{ \r\n",
       "    vertical-align: top !important; \r\n",
       "    margin: 0em 0px !important;\r\n",
       "} \r\n",
       "table th {\r\n",
       "    text-align: start;\r\n",
       "}\r\n",
       "</style>"
      ]
     },
     "metadata": {},
     "output_type": "display_data"
    }
   ],
   "source": [
    "pair.LeadingLeafMu"
   ]
  },
  {
   "cell_type": "markdown",
   "metadata": {},
   "source": []
  }
 ],
 "metadata": {
  "kernelspec": {
   "display_name": ".NET (C#)",
   "language": "C#",
   "name": ".net-csharp"
  },
  "language_info": {
   "name": "python",
   "version": "3.9.6"
  },
  "polyglot_notebook": {
   "kernelInfo": {
    "defaultKernelName": "csharp",
    "items": [
     {
      "aliases": [],
      "languageName": "csharp",
      "name": "csharp"
     }
    ]
   }
  }
 },
 "nbformat": 4,
 "nbformat_minor": 2
}
