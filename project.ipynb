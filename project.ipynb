{
 "cells": [
  {
   "cell_type": "code",
   "execution_count": 6,
   "metadata": {
    "dotnet_interactive": {
     "language": "csharp"
    },
    "polyglot_notebook": {
     "kernelName": "csharp"
    },
    "vscode": {
     "languageId": "polyglot-notebook"
    }
   },
   "outputs": [],
   "source": [
    "#!import portraitprintingdmlc/PortraitPrintingDmlc.cs"
   ]
  },
  {
   "cell_type": "code",
   "execution_count": 7,
   "metadata": {
    "dotnet_interactive": {
     "language": "csharp"
    },
    "polyglot_notebook": {
     "kernelName": "csharp"
    },
    "vscode": {
     "languageId": "polyglot-notebook"
    }
   },
   "outputs": [
    {
     "name": "stdout",
     "output_type": "stream",
     "text": [
      "new image size: 140 x 42\n",
      "new image resolution: 96.01199, 22.654514\n"
     ]
    }
   ],
   "source": [
    "var arr = ImageDigitizer.Digitize(\"./images/rw.bmp\");"
   ]
  },
  {
   "cell_type": "code",
   "execution_count": 65,
   "metadata": {
    "dotnet_interactive": {
     "language": "csharp"
    },
    "polyglot_notebook": {
     "kernelName": "csharp"
    },
    "vscode": {
     "languageId": "polyglot-notebook"
    }
   },
   "outputs": [],
   "source": [
    "var row = Enumerable.Range(0, arr.GetLength(1)).Select(x=>arr[21, x]).ToArray();"
   ]
  },
  {
   "cell_type": "code",
   "execution_count": 71,
   "metadata": {
    "dotnet_interactive": {
     "language": "csharp"
    },
    "polyglot_notebook": {
     "kernelName": "csharp"
    },
    "vscode": {
     "languageId": "polyglot-notebook"
    }
   },
   "outputs": [
    {
     "name": "stdout",
     "output_type": "stream",
     "text": [
      "intensity profile length131, System.Collections.Generic.List`1[System.Double]\n",
      "position vector length130, System.Collections.Generic.List`1[System.Int32]\n"
     ]
    }
   ],
   "source": [
    "//squeezing out unchanged fluence\n",
    "List<double> p = new List<double>();\n",
    "List<int> x = new List<int>();\n",
    "\n",
    "double current = 0;\n",
    "int count = 1;\n",
    "\n",
    "p.Add(current);\n",
    "\n",
    "for (int i=0;i<row.Length;i++)\n",
    "{\n",
    "    if (current != row[i])\n",
    "    {\n",
    "        p.Add(row[i]);\n",
    "        x.Add(count);\n",
    "        current = row[i];\n",
    "    }\n",
    "    count++;\n",
    "}\n",
    "Console.WriteLine($\"intensity profile length{p.Count}, {p}\");\n",
    "Console.WriteLine($\"position vector length{x.Count}, {x}\");"
   ]
  },
  {
   "cell_type": "markdown",
   "metadata": {},
   "source": []
  },
  {
   "cell_type": "code",
   "execution_count": 3,
   "metadata": {
    "dotnet_interactive": {
     "language": "csharp"
    },
    "polyglot_notebook": {
     "kernelName": "csharp"
    },
    "vscode": {
     "languageId": "polyglot-notebook"
    }
   },
   "outputs": [],
   "source": [
    "#! import portraitprintingdmlc/PortraitPrintingDmlc.cs"
   ]
  },
  {
   "cell_type": "code",
   "execution_count": 4,
   "metadata": {
    "dotnet_interactive": {
     "language": "csharp"
    },
    "polyglot_notebook": {
     "kernelName": "csharp"
    },
    "vscode": {
     "languageId": "polyglot-notebook"
    }
   },
   "outputs": [
    {
     "ename": "Error",
     "evalue": "(1,11): error CS0103: The name 'ImageDigitizer' does not exist in the current context",
     "output_type": "error",
     "traceback": [
      "(1,11): error CS0103: The name 'ImageDigitizer' does not exist in the current context"
     ]
    }
   ],
   "source": [
    "var arr = ImageDigitizer.Digitize(\"./images/rw.bmp\");"
   ]
  },
  {
   "cell_type": "code",
   "execution_count": null,
   "metadata": {
    "dotnet_interactive": {
     "language": "csharp"
    },
    "polyglot_notebook": {
     "kernelName": "csharp"
    },
    "vscode": {
     "languageId": "polyglot-notebook"
    }
   },
   "outputs": [],
   "source": []
  }
 ],
 "metadata": {
  "kernelspec": {
   "display_name": "Python 3",
   "language": "python",
   "name": "python3"
  },
  "language_info": {
   "name": "python",
   "version": "3.9.6"
  },
  "polyglot_notebook": {
   "kernelInfo": {
    "defaultKernelName": "csharp",
    "items": [
     {
      "aliases": [],
      "languageName": "csharp",
      "name": "csharp"
     }
    ]
   }
  }
 },
 "nbformat": 4,
 "nbformat_minor": 2
}
