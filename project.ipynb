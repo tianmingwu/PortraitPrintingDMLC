{
 "cells": [
  {
   "cell_type": "code",
   "execution_count": 1,
   "metadata": {
    "vscode": {
     "languageId": "polyglot-notebook"
    }
   },
   "outputs": [
    {
     "data": {
      "text/html": [
       "<div><div></div><div></div><div><strong>Installed Packages</strong><ul><li><span>System.Drawing.Common, 8.0.10</span></li></ul></div></div>"
      ]
     },
     "metadata": {},
     "output_type": "display_data"
    }
   ],
   "source": [
    "#r \"nuget: System.Drawing.Common\""
   ]
  },
  {
   "cell_type": "code",
   "execution_count": null,
   "metadata": {
    "dotnet_interactive": {
     "language": "csharp"
    },
    "polyglot_notebook": {
     "kernelName": "csharp"
    },
    "vscode": {
     "languageId": "polyglot-notebook"
    }
   },
   "outputs": [
    {
     "name": "stdout",
     "output_type": "stream",
     "text": [
      "try compression factor 5\n",
      "try compression factor 10\n",
      "try compression factor 15\n",
      "try compression factor 20\n",
      "try compression factor 25\n",
      "try compression factor 30\n",
      "try compression factor 35\n",
      "try compression factor 40\n",
      "try compression factor 45\n",
      "try compression factor 50\n",
      "try compression factor 55\n",
      "try compression factor 60\n",
      "try compression factor 65\n",
      "try compression factor 70\n",
      "try compression factor 75\n",
      "try compression factor 80\n",
      "try compression factor 85\n",
      "try compression factor 90\n",
      "try compression factor 95\n",
      "try compression factor 100\n",
      "try compression factor 105\n",
      "try compression factor 110\n",
      "try compression factor 105\n",
      "Compression factor 105, completed! moving to next\n"
     ]
    }
   ],
   "source": [
    "#!import portraitprintingdmlc/PortraitPrintingDmlc.cs\n",
    "var tables = CreateFieldTrajectoryForImageFile(\"./images/rw.bmp\");\n",
    "WriteMlcFile(tables, \"./mlc/rw.mlc\")"
   ]
  },
  {
   "cell_type": "code",
   "execution_count": 12,
   "metadata": {
    "dotnet_interactive": {
     "language": "csharp"
    },
    "polyglot_notebook": {
     "kernelName": "csharp"
    },
    "vscode": {
     "languageId": "polyglot-notebook"
    }
   },
   "outputs": [],
   "source": [
    "var parkedPair = new MlcSequencer(new List<double>{0});\n",
    "var parkedTable = CreatePairTrajectoryTable(parkedPair);\n",
    "\n",
    "var testPair = new MlcSequencer(new List<double>{1,2,4,3,1,4,3});\n",
    "\n",
    "var testTable = CreatePairTrajectoryTable(testPair);\n"
   ]
  },
  {
   "cell_type": "code",
   "execution_count": 13,
   "metadata": {
    "dotnet_interactive": {
     "language": "csharp"
    },
    "polyglot_notebook": {
     "kernelName": "csharp"
    },
    "vscode": {
     "languageId": "polyglot-notebook"
    }
   },
   "outputs": [
    {
     "data": {
      "text/html": [
       "<table><thead><tr><th><i>index</i></th><th>value</th></tr></thead><tbody><tr><td>0</td><td><details class=\"dni-treeview\"><summary><span class=\"dni-code-hint\"><code>MeterSet, leading, trailing: 0, 5, 7</code></span></summary><div><table><thead><tr></tr></thead><tbody><tr><td>MeterSet</td><td><div class=\"dni-plaintext\"><pre>0</pre></div></td></tr><tr><td>LeadingLeafPos</td><td><div class=\"dni-plaintext\"><pre>5</pre></div></td></tr><tr><td>TrailingLeafPos</td><td><div class=\"dni-plaintext\"><pre>7</pre></div></td></tr></tbody></table></div></details></td></tr><tr><td>1</td><td><details class=\"dni-treeview\"><summary><span class=\"dni-code-hint\"><code>MeterSet, leading, trailing: 1, 5, 7</code></span></summary><div><table><thead><tr></tr></thead><tbody><tr><td>MeterSet</td><td><div class=\"dni-plaintext\"><pre>1</pre></div></td></tr><tr><td>LeadingLeafPos</td><td><div class=\"dni-plaintext\"><pre>5</pre></div></td></tr><tr><td>TrailingLeafPos</td><td><div class=\"dni-plaintext\"><pre>7</pre></div></td></tr></tbody></table></div></details></td></tr><tr><td>2</td><td><details class=\"dni-treeview\"><summary><span class=\"dni-code-hint\"><code>MeterSet, leading, trailing: 2, 5, 7</code></span></summary><div><table><thead><tr></tr></thead><tbody><tr><td>MeterSet</td><td><div class=\"dni-plaintext\"><pre>2</pre></div></td></tr><tr><td>LeadingLeafPos</td><td><div class=\"dni-plaintext\"><pre>5</pre></div></td></tr><tr><td>TrailingLeafPos</td><td><div class=\"dni-plaintext\"><pre>7</pre></div></td></tr></tbody></table></div></details></td></tr><tr><td>3</td><td><details class=\"dni-treeview\"><summary><span class=\"dni-code-hint\"><code>MeterSet, leading, trailing: 3, 2, 6</code></span></summary><div><table><thead><tr></tr></thead><tbody><tr><td>MeterSet</td><td><div class=\"dni-plaintext\"><pre>3</pre></div></td></tr><tr><td>LeadingLeafPos</td><td><div class=\"dni-plaintext\"><pre>2</pre></div></td></tr><tr><td>TrailingLeafPos</td><td><div class=\"dni-plaintext\"><pre>6</pre></div></td></tr></tbody></table></div></details></td></tr><tr><td>4</td><td><details class=\"dni-treeview\"><summary><span class=\"dni-code-hint\"><code>MeterSet, leading, trailing: 4, 2, 4</code></span></summary><div><table><thead><tr></tr></thead><tbody><tr><td>MeterSet</td><td><div class=\"dni-plaintext\"><pre>4</pre></div></td></tr><tr><td>LeadingLeafPos</td><td><div class=\"dni-plaintext\"><pre>2</pre></div></td></tr><tr><td>TrailingLeafPos</td><td><div class=\"dni-plaintext\"><pre>4</pre></div></td></tr></tbody></table></div></details></td></tr><tr><td>5</td><td><details class=\"dni-treeview\"><summary><span class=\"dni-code-hint\"><code>MeterSet, leading, trailing: 5, 1, 4</code></span></summary><div><table><thead><tr></tr></thead><tbody><tr><td>MeterSet</td><td><div class=\"dni-plaintext\"><pre>5</pre></div></td></tr><tr><td>LeadingLeafPos</td><td><div class=\"dni-plaintext\"><pre>1</pre></div></td></tr><tr><td>TrailingLeafPos</td><td><div class=\"dni-plaintext\"><pre>4</pre></div></td></tr></tbody></table></div></details></td></tr><tr><td>6</td><td><details class=\"dni-treeview\"><summary><span class=\"dni-code-hint\"><code>MeterSet, leading, trailing: 6, 0, 3</code></span></summary><div><table><thead><tr></tr></thead><tbody><tr><td>MeterSet</td><td><div class=\"dni-plaintext\"><pre>6</pre></div></td></tr><tr><td>LeadingLeafPos</td><td><div class=\"dni-plaintext\"><pre>0</pre></div></td></tr><tr><td>TrailingLeafPos</td><td><div class=\"dni-plaintext\"><pre>3</pre></div></td></tr></tbody></table></div></details></td></tr><tr><td>7</td><td><details class=\"dni-treeview\"><summary><span class=\"dni-code-hint\"><code>MeterSet, leading, trailing: 7, 0, 0</code></span></summary><div><table><thead><tr></tr></thead><tbody><tr><td>MeterSet</td><td><div class=\"dni-plaintext\"><pre>7</pre></div></td></tr><tr><td>LeadingLeafPos</td><td><div class=\"dni-plaintext\"><pre>0</pre></div></td></tr><tr><td>TrailingLeafPos</td><td><div class=\"dni-plaintext\"><pre>0</pre></div></td></tr></tbody></table></div></details></td></tr></tbody></table><style>\r\n",
       ".dni-code-hint {\r\n",
       "    font-style: italic;\r\n",
       "    overflow: hidden;\r\n",
       "    white-space: nowrap;\r\n",
       "}\r\n",
       ".dni-treeview {\r\n",
       "    white-space: nowrap;\r\n",
       "}\r\n",
       ".dni-treeview td {\r\n",
       "    vertical-align: top;\r\n",
       "    text-align: start;\r\n",
       "}\r\n",
       "details.dni-treeview {\r\n",
       "    padding-left: 1em;\r\n",
       "}\r\n",
       "table td {\r\n",
       "    text-align: start;\r\n",
       "}\r\n",
       "table tr { \r\n",
       "    vertical-align: top; \r\n",
       "    margin: 0em 0px;\r\n",
       "}\r\n",
       "table tr td pre \r\n",
       "{ \r\n",
       "    vertical-align: top !important; \r\n",
       "    margin: 0em 0px !important;\r\n",
       "} \r\n",
       "table th {\r\n",
       "    text-align: start;\r\n",
       "}\r\n",
       "</style>"
      ]
     },
     "metadata": {},
     "output_type": "display_data"
    }
   ],
   "source": [
    "testTable"
   ]
  },
  {
   "cell_type": "code",
   "execution_count": 14,
   "metadata": {
    "dotnet_interactive": {
     "language": "csharp"
    },
    "polyglot_notebook": {
     "kernelName": "csharp"
    },
    "vscode": {
     "languageId": "polyglot-notebook"
    }
   },
   "outputs": [],
   "source": [
    "var pairs = new List<MlcSequencer>{parkedPair, testPair};\n",
    "var tables = CreateFieldTrajectoryTable(pairs);"
   ]
  },
  {
   "cell_type": "code",
   "execution_count": 15,
   "metadata": {
    "dotnet_interactive": {
     "language": "csharp"
    },
    "polyglot_notebook": {
     "kernelName": "csharp"
    },
    "vscode": {
     "languageId": "polyglot-notebook"
    }
   },
   "outputs": [
    {
     "data": {
      "text/html": [
       "<table><thead><tr><th><i>index</i></th><th>value</th></tr></thead><tbody><tr><td>0</td><td><table><thead><tr><th><i>index</i></th><th>value</th></tr></thead><tbody><tr><td>0</td><td><details class=\"dni-treeview\"><summary><span class=\"dni-code-hint\"><code>MeterSet, leading, trailing: 0, 0, 0</code></span></summary><div><table><thead><tr></tr></thead><tbody><tr><td>MeterSet</td><td><div class=\"dni-plaintext\"><pre>0</pre></div></td></tr><tr><td>LeadingLeafPos</td><td><div class=\"dni-plaintext\"><pre>0</pre></div></td></tr><tr><td>TrailingLeafPos</td><td><div class=\"dni-plaintext\"><pre>0</pre></div></td></tr></tbody></table></div></details></td></tr><tr><td>1</td><td><details class=\"dni-treeview\"><summary><span class=\"dni-code-hint\"><code>MeterSet, leading, trailing: 1, 0, 0</code></span></summary><div><table><thead><tr></tr></thead><tbody><tr><td>MeterSet</td><td><div class=\"dni-plaintext\"><pre>1</pre></div></td></tr><tr><td>LeadingLeafPos</td><td><div class=\"dni-plaintext\"><pre>0</pre></div></td></tr><tr><td>TrailingLeafPos</td><td><div class=\"dni-plaintext\"><pre>0</pre></div></td></tr></tbody></table></div></details></td></tr><tr><td>2</td><td><details class=\"dni-treeview\"><summary><span class=\"dni-code-hint\"><code>MeterSet, leading, trailing: 2, 0, 0</code></span></summary><div><table><thead><tr></tr></thead><tbody><tr><td>MeterSet</td><td><div class=\"dni-plaintext\"><pre>2</pre></div></td></tr><tr><td>LeadingLeafPos</td><td><div class=\"dni-plaintext\"><pre>0</pre></div></td></tr><tr><td>TrailingLeafPos</td><td><div class=\"dni-plaintext\"><pre>0</pre></div></td></tr></tbody></table></div></details></td></tr><tr><td>3</td><td><details class=\"dni-treeview\"><summary><span class=\"dni-code-hint\"><code>MeterSet, leading, trailing: 3, 0, 0</code></span></summary><div><table><thead><tr></tr></thead><tbody><tr><td>MeterSet</td><td><div class=\"dni-plaintext\"><pre>3</pre></div></td></tr><tr><td>LeadingLeafPos</td><td><div class=\"dni-plaintext\"><pre>0</pre></div></td></tr><tr><td>TrailingLeafPos</td><td><div class=\"dni-plaintext\"><pre>0</pre></div></td></tr></tbody></table></div></details></td></tr><tr><td>4</td><td><details class=\"dni-treeview\"><summary><span class=\"dni-code-hint\"><code>MeterSet, leading, trailing: 4, 0, 0</code></span></summary><div><table><thead><tr></tr></thead><tbody><tr><td>MeterSet</td><td><div class=\"dni-plaintext\"><pre>4</pre></div></td></tr><tr><td>LeadingLeafPos</td><td><div class=\"dni-plaintext\"><pre>0</pre></div></td></tr><tr><td>TrailingLeafPos</td><td><div class=\"dni-plaintext\"><pre>0</pre></div></td></tr></tbody></table></div></details></td></tr><tr><td>5</td><td><details class=\"dni-treeview\"><summary><span class=\"dni-code-hint\"><code>MeterSet, leading, trailing: 5, 0, 0</code></span></summary><div><table><thead><tr></tr></thead><tbody><tr><td>MeterSet</td><td><div class=\"dni-plaintext\"><pre>5</pre></div></td></tr><tr><td>LeadingLeafPos</td><td><div class=\"dni-plaintext\"><pre>0</pre></div></td></tr><tr><td>TrailingLeafPos</td><td><div class=\"dni-plaintext\"><pre>0</pre></div></td></tr></tbody></table></div></details></td></tr><tr><td>6</td><td><details class=\"dni-treeview\"><summary><span class=\"dni-code-hint\"><code>MeterSet, leading, trailing: 6, 0, 0</code></span></summary><div><table><thead><tr></tr></thead><tbody><tr><td>MeterSet</td><td><div class=\"dni-plaintext\"><pre>6</pre></div></td></tr><tr><td>LeadingLeafPos</td><td><div class=\"dni-plaintext\"><pre>0</pre></div></td></tr><tr><td>TrailingLeafPos</td><td><div class=\"dni-plaintext\"><pre>0</pre></div></td></tr></tbody></table></div></details></td></tr><tr><td>7</td><td><details class=\"dni-treeview\"><summary><span class=\"dni-code-hint\"><code>MeterSet, leading, trailing: 7, 0, 0</code></span></summary><div><table><thead><tr></tr></thead><tbody><tr><td>MeterSet</td><td><div class=\"dni-plaintext\"><pre>7</pre></div></td></tr><tr><td>LeadingLeafPos</td><td><div class=\"dni-plaintext\"><pre>0</pre></div></td></tr><tr><td>TrailingLeafPos</td><td><div class=\"dni-plaintext\"><pre>0</pre></div></td></tr></tbody></table></div></details></td></tr><tr><td>8</td><td><details class=\"dni-treeview\"><summary><span class=\"dni-code-hint\"><code>MeterSet, leading, trailing: 8, 0, 0</code></span></summary><div><table><thead><tr></tr></thead><tbody><tr><td>MeterSet</td><td><div class=\"dni-plaintext\"><pre>8</pre></div></td></tr><tr><td>LeadingLeafPos</td><td><div class=\"dni-plaintext\"><pre>0</pre></div></td></tr><tr><td>TrailingLeafPos</td><td><div class=\"dni-plaintext\"><pre>0</pre></div></td></tr></tbody></table></div></details></td></tr><tr><td>9</td><td><details class=\"dni-treeview\"><summary><span class=\"dni-code-hint\"><code>MeterSet, leading, trailing: 9, 0, 0</code></span></summary><div><table><thead><tr></tr></thead><tbody><tr><td>MeterSet</td><td><div class=\"dni-plaintext\"><pre>9</pre></div></td></tr><tr><td>LeadingLeafPos</td><td><div class=\"dni-plaintext\"><pre>0</pre></div></td></tr><tr><td>TrailingLeafPos</td><td><div class=\"dni-plaintext\"><pre>0</pre></div></td></tr></tbody></table></div></details></td></tr><tr><td>10</td><td><details class=\"dni-treeview\"><summary><span class=\"dni-code-hint\"><code>MeterSet, leading, trailing: 10, 0, 0</code></span></summary><div><table><thead><tr></tr></thead><tbody><tr><td>MeterSet</td><td><div class=\"dni-plaintext\"><pre>10</pre></div></td></tr><tr><td>LeadingLeafPos</td><td><div class=\"dni-plaintext\"><pre>0</pre></div></td></tr><tr><td>TrailingLeafPos</td><td><div class=\"dni-plaintext\"><pre>0</pre></div></td></tr></tbody></table></div></details></td></tr><tr><td>11</td><td><details class=\"dni-treeview\"><summary><span class=\"dni-code-hint\"><code>MeterSet, leading, trailing: 11, 0, 0</code></span></summary><div><table><thead><tr></tr></thead><tbody><tr><td>MeterSet</td><td><div class=\"dni-plaintext\"><pre>11</pre></div></td></tr><tr><td>LeadingLeafPos</td><td><div class=\"dni-plaintext\"><pre>0</pre></div></td></tr><tr><td>TrailingLeafPos</td><td><div class=\"dni-plaintext\"><pre>0</pre></div></td></tr></tbody></table></div></details></td></tr><tr><td>12</td><td><details class=\"dni-treeview\"><summary><span class=\"dni-code-hint\"><code>MeterSet, leading, trailing: 12, 0, 0</code></span></summary><div><table><thead><tr></tr></thead><tbody><tr><td>MeterSet</td><td><div class=\"dni-plaintext\"><pre>12</pre></div></td></tr><tr><td>LeadingLeafPos</td><td><div class=\"dni-plaintext\"><pre>0</pre></div></td></tr><tr><td>TrailingLeafPos</td><td><div class=\"dni-plaintext\"><pre>0</pre></div></td></tr></tbody></table></div></details></td></tr><tr><td>13</td><td><details class=\"dni-treeview\"><summary><span class=\"dni-code-hint\"><code>MeterSet, leading, trailing: 13, 0, 0</code></span></summary><div><table><thead><tr></tr></thead><tbody><tr><td>MeterSet</td><td><div class=\"dni-plaintext\"><pre>13</pre></div></td></tr><tr><td>LeadingLeafPos</td><td><div class=\"dni-plaintext\"><pre>0</pre></div></td></tr><tr><td>TrailingLeafPos</td><td><div class=\"dni-plaintext\"><pre>0</pre></div></td></tr></tbody></table></div></details></td></tr><tr><td>14</td><td><details class=\"dni-treeview\"><summary><span class=\"dni-code-hint\"><code>MeterSet, leading, trailing: 14, 0, 0</code></span></summary><div><table><thead><tr></tr></thead><tbody><tr><td>MeterSet</td><td><div class=\"dni-plaintext\"><pre>14</pre></div></td></tr><tr><td>LeadingLeafPos</td><td><div class=\"dni-plaintext\"><pre>0</pre></div></td></tr><tr><td>TrailingLeafPos</td><td><div class=\"dni-plaintext\"><pre>0</pre></div></td></tr></tbody></table></div></details></td></tr><tr><td>15</td><td><details class=\"dni-treeview\"><summary><span class=\"dni-code-hint\"><code>MeterSet, leading, trailing: 15, 0, 0</code></span></summary><div><table><thead><tr></tr></thead><tbody><tr><td>MeterSet</td><td><div class=\"dni-plaintext\"><pre>15</pre></div></td></tr><tr><td>LeadingLeafPos</td><td><div class=\"dni-plaintext\"><pre>0</pre></div></td></tr><tr><td>TrailingLeafPos</td><td><div class=\"dni-plaintext\"><pre>0</pre></div></td></tr></tbody></table></div></details></td></tr><tr><td>16</td><td><details class=\"dni-treeview\"><summary><span class=\"dni-code-hint\"><code>MeterSet, leading, trailing: 16, 0, 0</code></span></summary><div><table><thead><tr></tr></thead><tbody><tr><td>MeterSet</td><td><div class=\"dni-plaintext\"><pre>16</pre></div></td></tr><tr><td>LeadingLeafPos</td><td><div class=\"dni-plaintext\"><pre>0</pre></div></td></tr><tr><td>TrailingLeafPos</td><td><div class=\"dni-plaintext\"><pre>0</pre></div></td></tr></tbody></table></div></details></td></tr><tr><td>17</td><td><details class=\"dni-treeview\"><summary><span class=\"dni-code-hint\"><code>MeterSet, leading, trailing: 17, 0, 0</code></span></summary><div><table><thead><tr></tr></thead><tbody><tr><td>MeterSet</td><td><div class=\"dni-plaintext\"><pre>17</pre></div></td></tr><tr><td>LeadingLeafPos</td><td><div class=\"dni-plaintext\"><pre>0</pre></div></td></tr><tr><td>TrailingLeafPos</td><td><div class=\"dni-plaintext\"><pre>0</pre></div></td></tr></tbody></table></div></details></td></tr><tr><td>18</td><td><details class=\"dni-treeview\"><summary><span class=\"dni-code-hint\"><code>MeterSet, leading, trailing: 18, 0, 0</code></span></summary><div><table><thead><tr></tr></thead><tbody><tr><td>MeterSet</td><td><div class=\"dni-plaintext\"><pre>18</pre></div></td></tr><tr><td>LeadingLeafPos</td><td><div class=\"dni-plaintext\"><pre>0</pre></div></td></tr><tr><td>TrailingLeafPos</td><td><div class=\"dni-plaintext\"><pre>0</pre></div></td></tr></tbody></table></div></details></td></tr><tr><td>19</td><td><details class=\"dni-treeview\"><summary><span class=\"dni-code-hint\"><code>MeterSet, leading, trailing: 19, 0, 0</code></span></summary><div><table><thead><tr></tr></thead><tbody><tr><td>MeterSet</td><td><div class=\"dni-plaintext\"><pre>19</pre></div></td></tr><tr><td>LeadingLeafPos</td><td><div class=\"dni-plaintext\"><pre>0</pre></div></td></tr><tr><td>TrailingLeafPos</td><td><div class=\"dni-plaintext\"><pre>0</pre></div></td></tr></tbody></table></div></details></td></tr><tr><td colspan=\"2\"><i>(479 more)</i></td></tr></tbody></table></td></tr><tr><td>1</td><td><table><thead><tr><th><i>index</i></th><th>value</th></tr></thead><tbody><tr><td>0</td><td><details class=\"dni-treeview\"><summary><span class=\"dni-code-hint\"><code>MeterSet, leading, trailing: 0, 5, 7</code></span></summary><div><table><thead><tr></tr></thead><tbody><tr><td>MeterSet</td><td><div class=\"dni-plaintext\"><pre>0</pre></div></td></tr><tr><td>LeadingLeafPos</td><td><div class=\"dni-plaintext\"><pre>5</pre></div></td></tr><tr><td>TrailingLeafPos</td><td><div class=\"dni-plaintext\"><pre>7</pre></div></td></tr></tbody></table></div></details></td></tr><tr><td>1</td><td><details class=\"dni-treeview\"><summary><span class=\"dni-code-hint\"><code>MeterSet, leading, trailing: 1, 5, 7</code></span></summary><div><table><thead><tr></tr></thead><tbody><tr><td>MeterSet</td><td><div class=\"dni-plaintext\"><pre>1</pre></div></td></tr><tr><td>LeadingLeafPos</td><td><div class=\"dni-plaintext\"><pre>5</pre></div></td></tr><tr><td>TrailingLeafPos</td><td><div class=\"dni-plaintext\"><pre>7</pre></div></td></tr></tbody></table></div></details></td></tr><tr><td>2</td><td><details class=\"dni-treeview\"><summary><span class=\"dni-code-hint\"><code>MeterSet, leading, trailing: 2, 5, 7</code></span></summary><div><table><thead><tr></tr></thead><tbody><tr><td>MeterSet</td><td><div class=\"dni-plaintext\"><pre>2</pre></div></td></tr><tr><td>LeadingLeafPos</td><td><div class=\"dni-plaintext\"><pre>5</pre></div></td></tr><tr><td>TrailingLeafPos</td><td><div class=\"dni-plaintext\"><pre>7</pre></div></td></tr></tbody></table></div></details></td></tr><tr><td>3</td><td><details class=\"dni-treeview\"><summary><span class=\"dni-code-hint\"><code>MeterSet, leading, trailing: 3, 2, 6</code></span></summary><div><table><thead><tr></tr></thead><tbody><tr><td>MeterSet</td><td><div class=\"dni-plaintext\"><pre>3</pre></div></td></tr><tr><td>LeadingLeafPos</td><td><div class=\"dni-plaintext\"><pre>2</pre></div></td></tr><tr><td>TrailingLeafPos</td><td><div class=\"dni-plaintext\"><pre>6</pre></div></td></tr></tbody></table></div></details></td></tr><tr><td>4</td><td><details class=\"dni-treeview\"><summary><span class=\"dni-code-hint\"><code>MeterSet, leading, trailing: 4, 2, 4</code></span></summary><div><table><thead><tr></tr></thead><tbody><tr><td>MeterSet</td><td><div class=\"dni-plaintext\"><pre>4</pre></div></td></tr><tr><td>LeadingLeafPos</td><td><div class=\"dni-plaintext\"><pre>2</pre></div></td></tr><tr><td>TrailingLeafPos</td><td><div class=\"dni-plaintext\"><pre>4</pre></div></td></tr></tbody></table></div></details></td></tr><tr><td>5</td><td><details class=\"dni-treeview\"><summary><span class=\"dni-code-hint\"><code>MeterSet, leading, trailing: 5, 1, 4</code></span></summary><div><table><thead><tr></tr></thead><tbody><tr><td>MeterSet</td><td><div class=\"dni-plaintext\"><pre>5</pre></div></td></tr><tr><td>LeadingLeafPos</td><td><div class=\"dni-plaintext\"><pre>1</pre></div></td></tr><tr><td>TrailingLeafPos</td><td><div class=\"dni-plaintext\"><pre>4</pre></div></td></tr></tbody></table></div></details></td></tr><tr><td>6</td><td><details class=\"dni-treeview\"><summary><span class=\"dni-code-hint\"><code>MeterSet, leading, trailing: 6, 0, 3</code></span></summary><div><table><thead><tr></tr></thead><tbody><tr><td>MeterSet</td><td><div class=\"dni-plaintext\"><pre>6</pre></div></td></tr><tr><td>LeadingLeafPos</td><td><div class=\"dni-plaintext\"><pre>0</pre></div></td></tr><tr><td>TrailingLeafPos</td><td><div class=\"dni-plaintext\"><pre>3</pre></div></td></tr></tbody></table></div></details></td></tr><tr><td>7</td><td><details class=\"dni-treeview\"><summary><span class=\"dni-code-hint\"><code>MeterSet, leading, trailing: 7, 0, 0</code></span></summary><div><table><thead><tr></tr></thead><tbody><tr><td>MeterSet</td><td><div class=\"dni-plaintext\"><pre>7</pre></div></td></tr><tr><td>LeadingLeafPos</td><td><div class=\"dni-plaintext\"><pre>0</pre></div></td></tr><tr><td>TrailingLeafPos</td><td><div class=\"dni-plaintext\"><pre>0</pre></div></td></tr></tbody></table></div></details></td></tr><tr><td>8</td><td><details class=\"dni-treeview\"><summary><span class=\"dni-code-hint\"><code>MeterSet, leading, trailing: 8, 0, 0</code></span></summary><div><table><thead><tr></tr></thead><tbody><tr><td>MeterSet</td><td><div class=\"dni-plaintext\"><pre>8</pre></div></td></tr><tr><td>LeadingLeafPos</td><td><div class=\"dni-plaintext\"><pre>0</pre></div></td></tr><tr><td>TrailingLeafPos</td><td><div class=\"dni-plaintext\"><pre>0</pre></div></td></tr></tbody></table></div></details></td></tr><tr><td>9</td><td><details class=\"dni-treeview\"><summary><span class=\"dni-code-hint\"><code>MeterSet, leading, trailing: 9, 0, 0</code></span></summary><div><table><thead><tr></tr></thead><tbody><tr><td>MeterSet</td><td><div class=\"dni-plaintext\"><pre>9</pre></div></td></tr><tr><td>LeadingLeafPos</td><td><div class=\"dni-plaintext\"><pre>0</pre></div></td></tr><tr><td>TrailingLeafPos</td><td><div class=\"dni-plaintext\"><pre>0</pre></div></td></tr></tbody></table></div></details></td></tr><tr><td>10</td><td><details class=\"dni-treeview\"><summary><span class=\"dni-code-hint\"><code>MeterSet, leading, trailing: 10, 0, 0</code></span></summary><div><table><thead><tr></tr></thead><tbody><tr><td>MeterSet</td><td><div class=\"dni-plaintext\"><pre>10</pre></div></td></tr><tr><td>LeadingLeafPos</td><td><div class=\"dni-plaintext\"><pre>0</pre></div></td></tr><tr><td>TrailingLeafPos</td><td><div class=\"dni-plaintext\"><pre>0</pre></div></td></tr></tbody></table></div></details></td></tr><tr><td>11</td><td><details class=\"dni-treeview\"><summary><span class=\"dni-code-hint\"><code>MeterSet, leading, trailing: 11, 0, 0</code></span></summary><div><table><thead><tr></tr></thead><tbody><tr><td>MeterSet</td><td><div class=\"dni-plaintext\"><pre>11</pre></div></td></tr><tr><td>LeadingLeafPos</td><td><div class=\"dni-plaintext\"><pre>0</pre></div></td></tr><tr><td>TrailingLeafPos</td><td><div class=\"dni-plaintext\"><pre>0</pre></div></td></tr></tbody></table></div></details></td></tr><tr><td>12</td><td><details class=\"dni-treeview\"><summary><span class=\"dni-code-hint\"><code>MeterSet, leading, trailing: 12, 0, 0</code></span></summary><div><table><thead><tr></tr></thead><tbody><tr><td>MeterSet</td><td><div class=\"dni-plaintext\"><pre>12</pre></div></td></tr><tr><td>LeadingLeafPos</td><td><div class=\"dni-plaintext\"><pre>0</pre></div></td></tr><tr><td>TrailingLeafPos</td><td><div class=\"dni-plaintext\"><pre>0</pre></div></td></tr></tbody></table></div></details></td></tr><tr><td>13</td><td><details class=\"dni-treeview\"><summary><span class=\"dni-code-hint\"><code>MeterSet, leading, trailing: 13, 0, 0</code></span></summary><div><table><thead><tr></tr></thead><tbody><tr><td>MeterSet</td><td><div class=\"dni-plaintext\"><pre>13</pre></div></td></tr><tr><td>LeadingLeafPos</td><td><div class=\"dni-plaintext\"><pre>0</pre></div></td></tr><tr><td>TrailingLeafPos</td><td><div class=\"dni-plaintext\"><pre>0</pre></div></td></tr></tbody></table></div></details></td></tr><tr><td>14</td><td><details class=\"dni-treeview\"><summary><span class=\"dni-code-hint\"><code>MeterSet, leading, trailing: 14, 0, 0</code></span></summary><div><table><thead><tr></tr></thead><tbody><tr><td>MeterSet</td><td><div class=\"dni-plaintext\"><pre>14</pre></div></td></tr><tr><td>LeadingLeafPos</td><td><div class=\"dni-plaintext\"><pre>0</pre></div></td></tr><tr><td>TrailingLeafPos</td><td><div class=\"dni-plaintext\"><pre>0</pre></div></td></tr></tbody></table></div></details></td></tr><tr><td>15</td><td><details class=\"dni-treeview\"><summary><span class=\"dni-code-hint\"><code>MeterSet, leading, trailing: 15, 0, 0</code></span></summary><div><table><thead><tr></tr></thead><tbody><tr><td>MeterSet</td><td><div class=\"dni-plaintext\"><pre>15</pre></div></td></tr><tr><td>LeadingLeafPos</td><td><div class=\"dni-plaintext\"><pre>0</pre></div></td></tr><tr><td>TrailingLeafPos</td><td><div class=\"dni-plaintext\"><pre>0</pre></div></td></tr></tbody></table></div></details></td></tr><tr><td>16</td><td><details class=\"dni-treeview\"><summary><span class=\"dni-code-hint\"><code>MeterSet, leading, trailing: 16, 0, 0</code></span></summary><div><table><thead><tr></tr></thead><tbody><tr><td>MeterSet</td><td><div class=\"dni-plaintext\"><pre>16</pre></div></td></tr><tr><td>LeadingLeafPos</td><td><div class=\"dni-plaintext\"><pre>0</pre></div></td></tr><tr><td>TrailingLeafPos</td><td><div class=\"dni-plaintext\"><pre>0</pre></div></td></tr></tbody></table></div></details></td></tr><tr><td>17</td><td><details class=\"dni-treeview\"><summary><span class=\"dni-code-hint\"><code>MeterSet, leading, trailing: 17, 0, 0</code></span></summary><div><table><thead><tr></tr></thead><tbody><tr><td>MeterSet</td><td><div class=\"dni-plaintext\"><pre>17</pre></div></td></tr><tr><td>LeadingLeafPos</td><td><div class=\"dni-plaintext\"><pre>0</pre></div></td></tr><tr><td>TrailingLeafPos</td><td><div class=\"dni-plaintext\"><pre>0</pre></div></td></tr></tbody></table></div></details></td></tr><tr><td>18</td><td><details class=\"dni-treeview\"><summary><span class=\"dni-code-hint\"><code>MeterSet, leading, trailing: 18, 0, 0</code></span></summary><div><table><thead><tr></tr></thead><tbody><tr><td>MeterSet</td><td><div class=\"dni-plaintext\"><pre>18</pre></div></td></tr><tr><td>LeadingLeafPos</td><td><div class=\"dni-plaintext\"><pre>0</pre></div></td></tr><tr><td>TrailingLeafPos</td><td><div class=\"dni-plaintext\"><pre>0</pre></div></td></tr></tbody></table></div></details></td></tr><tr><td>19</td><td><details class=\"dni-treeview\"><summary><span class=\"dni-code-hint\"><code>MeterSet, leading, trailing: 19, 0, 0</code></span></summary><div><table><thead><tr></tr></thead><tbody><tr><td>MeterSet</td><td><div class=\"dni-plaintext\"><pre>19</pre></div></td></tr><tr><td>LeadingLeafPos</td><td><div class=\"dni-plaintext\"><pre>0</pre></div></td></tr><tr><td>TrailingLeafPos</td><td><div class=\"dni-plaintext\"><pre>0</pre></div></td></tr></tbody></table></div></details></td></tr><tr><td colspan=\"2\"><i>(479 more)</i></td></tr></tbody></table></td></tr></tbody></table><style>\r\n",
       ".dni-code-hint {\r\n",
       "    font-style: italic;\r\n",
       "    overflow: hidden;\r\n",
       "    white-space: nowrap;\r\n",
       "}\r\n",
       ".dni-treeview {\r\n",
       "    white-space: nowrap;\r\n",
       "}\r\n",
       ".dni-treeview td {\r\n",
       "    vertical-align: top;\r\n",
       "    text-align: start;\r\n",
       "}\r\n",
       "details.dni-treeview {\r\n",
       "    padding-left: 1em;\r\n",
       "}\r\n",
       "table td {\r\n",
       "    text-align: start;\r\n",
       "}\r\n",
       "table tr { \r\n",
       "    vertical-align: top; \r\n",
       "    margin: 0em 0px;\r\n",
       "}\r\n",
       "table tr td pre \r\n",
       "{ \r\n",
       "    vertical-align: top !important; \r\n",
       "    margin: 0em 0px !important;\r\n",
       "} \r\n",
       "table th {\r\n",
       "    text-align: start;\r\n",
       "}\r\n",
       "</style>"
      ]
     },
     "metadata": {},
     "output_type": "display_data"
    }
   ],
   "source": [
    "tables"
   ]
  }
 ],
 "metadata": {
  "kernelspec": {
   "display_name": ".NET (C#)",
   "language": "C#",
   "name": ".net-csharp"
  },
  "language_info": {
   "name": "python",
   "version": "3.9.6"
  },
  "polyglot_notebook": {
   "kernelInfo": {
    "defaultKernelName": "csharp",
    "items": [
     {
      "aliases": [],
      "languageName": "csharp",
      "name": "csharp"
     }
    ]
   }
  }
 },
 "nbformat": 4,
 "nbformat_minor": 2
}
