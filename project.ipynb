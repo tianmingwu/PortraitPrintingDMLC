{
 "cells": [
  {
   "cell_type": "code",
   "execution_count": 93,
   "metadata": {
    "dotnet_interactive": {
     "language": "csharp"
    },
    "polyglot_notebook": {
     "kernelName": "csharp"
    },
    "vscode": {
     "languageId": "polyglot-notebook"
    }
   },
   "outputs": [],
   "source": [
    "#!import portraitprintingdmlc/PortraitPrintingDmlc.cs"
   ]
  },
  {
   "cell_type": "code",
   "execution_count": 94,
   "metadata": {
    "dotnet_interactive": {
     "language": "csharp"
    },
    "polyglot_notebook": {
     "kernelName": "csharp"
    },
    "vscode": {
     "languageId": "polyglot-notebook"
    }
   },
   "outputs": [
    {
     "ename": "Error",
     "evalue": "Command cancelled.",
     "output_type": "error",
     "traceback": [
      "Command cancelled."
     ]
    }
   ],
   "source": [
    "var pair = new MlcSequencer(new List<double>{1,2,4,3,1,4,3});\n",
    "double incrementalMU = 1.0/7.0;\n",
    "double restLeafPosition = 0;\n",
    "\n",
    "var table = WriteTrajectoryTable(incrementalMU, pair, restLeafPosition);\n",
    "table"
   ]
  },
  {
   "cell_type": "code",
   "execution_count": null,
   "metadata": {
    "dotnet_interactive": {
     "language": "csharp"
    },
    "polyglot_notebook": {
     "kernelName": "csharp"
    },
    "vscode": {
     "languageId": "polyglot-notebook"
    }
   },
   "outputs": [],
   "source": [
    "var arr = ImageDigitizer.Digitize(\"./images/rw.bmp\");\n",
    "var row = Enumerable.Range(0, arr.GetLength(1)).Select(x=>arr[21, x]).ToList();\n",
    "pair = new MlcSequencer(row);\n",
    "double incrementalMU = (double) 1/16;\n",
    "double restLeafPosition = 0;\n",
    "table = WriteTrajectoryTable(incrementalMU, pair, restLeafPosition);"
   ]
  },
  {
   "cell_type": "code",
   "execution_count": null,
   "metadata": {
    "dotnet_interactive": {
     "language": "csharp"
    },
    "polyglot_notebook": {
     "kernelName": "csharp"
    },
    "vscode": {
     "languageId": "polyglot-notebook"
    }
   },
   "outputs": [
    {
     "data": {
      "text/html": [
       "<div class=\"dni-plaintext\"><pre>17</pre></div><style>\r\n",
       ".dni-code-hint {\r\n",
       "    font-style: italic;\r\n",
       "    overflow: hidden;\r\n",
       "    white-space: nowrap;\r\n",
       "}\r\n",
       ".dni-treeview {\r\n",
       "    white-space: nowrap;\r\n",
       "}\r\n",
       ".dni-treeview td {\r\n",
       "    vertical-align: top;\r\n",
       "    text-align: start;\r\n",
       "}\r\n",
       "details.dni-treeview {\r\n",
       "    padding-left: 1em;\r\n",
       "}\r\n",
       "table td {\r\n",
       "    text-align: start;\r\n",
       "}\r\n",
       "table tr { \r\n",
       "    vertical-align: top; \r\n",
       "    margin: 0em 0px;\r\n",
       "}\r\n",
       "table tr td pre \r\n",
       "{ \r\n",
       "    vertical-align: top !important; \r\n",
       "    margin: 0em 0px !important;\r\n",
       "} \r\n",
       "table th {\r\n",
       "    text-align: start;\r\n",
       "}\r\n",
       "</style>"
      ]
     },
     "metadata": {},
     "output_type": "display_data"
    }
   ],
   "source": [
    "table.Count"
   ]
  },
  {
   "cell_type": "code",
   "execution_count": null,
   "metadata": {
    "dotnet_interactive": {
     "language": "csharp"
    },
    "polyglot_notebook": {
     "kernelName": "csharp"
    },
    "vscode": {
     "languageId": "polyglot-notebook"
    }
   },
   "outputs": [
    {
     "data": {
      "text/html": [
       "<table><thead><tr><th><i>index</i></th><th>value</th></tr></thead><tbody><tr><td>0</td><td><details class=\"dni-treeview\"><summary><span class=\"dni-code-hint\"><code>MeterSet, leading, trailing: 0.625, 11.8, 12.100000000000001</code></span></summary><div><table><thead><tr></tr></thead><tbody><tr><td>MeterSet</td><td><div class=\"dni-plaintext\"><pre>0.625</pre></div></td></tr><tr><td>LeadingLeafPos</td><td><div class=\"dni-plaintext\"><pre>11.8</pre></div></td></tr><tr><td>TrailingLeafPos</td><td><div class=\"dni-plaintext\"><pre>12.100000000000001</pre></div></td></tr></tbody></table></div></details></td></tr><tr><td>1</td><td><details class=\"dni-treeview\"><summary><span class=\"dni-code-hint\"><code>MeterSet, leading, trailing: 0.6875, 11.700000000000001, 11.600000000000001</code></span></summary><div><table><thead><tr></tr></thead><tbody><tr><td>MeterSet</td><td><div class=\"dni-plaintext\"><pre>0.6875</pre></div></td></tr><tr><td>LeadingLeafPos</td><td><div class=\"dni-plaintext\"><pre>11.700000000000001</pre></div></td></tr><tr><td>TrailingLeafPos</td><td><div class=\"dni-plaintext\"><pre>11.600000000000001</pre></div></td></tr></tbody></table></div></details></td></tr><tr><td>2</td><td><details class=\"dni-treeview\"><summary><span class=\"dni-code-hint\"><code>MeterSet, leading, trailing: 0.75, 11.200000000000001, 11.5</code></span></summary><div><table><thead><tr></tr></thead><tbody><tr><td>MeterSet</td><td><div class=\"dni-plaintext\"><pre>0.75</pre></div></td></tr><tr><td>LeadingLeafPos</td><td><div class=\"dni-plaintext\"><pre>11.200000000000001</pre></div></td></tr><tr><td>TrailingLeafPos</td><td><div class=\"dni-plaintext\"><pre>11.5</pre></div></td></tr></tbody></table></div></details></td></tr><tr><td>3</td><td><details class=\"dni-treeview\"><summary><span class=\"dni-code-hint\"><code>MeterSet, leading, trailing: 0.8125, 11, 11.4</code></span></summary><div><table><thead><tr></tr></thead><tbody><tr><td>MeterSet</td><td><div class=\"dni-plaintext\"><pre>0.8125</pre></div></td></tr><tr><td>LeadingLeafPos</td><td><div class=\"dni-plaintext\"><pre>11</pre></div></td></tr><tr><td>TrailingLeafPos</td><td><div class=\"dni-plaintext\"><pre>11.4</pre></div></td></tr></tbody></table></div></details></td></tr><tr><td>4</td><td><details class=\"dni-treeview\"><summary><span class=\"dni-code-hint\"><code>MeterSet, leading, trailing: 0.875, 10.700000000000001, 11.3</code></span></summary><div><table><thead><tr></tr></thead><tbody><tr><td>MeterSet</td><td><div class=\"dni-plaintext\"><pre>0.875</pre></div></td></tr><tr><td>LeadingLeafPos</td><td><div class=\"dni-plaintext\"><pre>10.700000000000001</pre></div></td></tr><tr><td>TrailingLeafPos</td><td><div class=\"dni-plaintext\"><pre>11.3</pre></div></td></tr></tbody></table></div></details></td></tr><tr><td>5</td><td><details class=\"dni-treeview\"><summary><span class=\"dni-code-hint\"><code>MeterSet, leading, trailing: 0.9375, 10.5, 11.100000000000001</code></span></summary><div><table><thead><tr></tr></thead><tbody><tr><td>MeterSet</td><td><div class=\"dni-plaintext\"><pre>0.9375</pre></div></td></tr><tr><td>LeadingLeafPos</td><td><div class=\"dni-plaintext\"><pre>10.5</pre></div></td></tr><tr><td>TrailingLeafPos</td><td><div class=\"dni-plaintext\"><pre>11.100000000000001</pre></div></td></tr></tbody></table></div></details></td></tr><tr><td>6</td><td><details class=\"dni-treeview\"><summary><span class=\"dni-code-hint\"><code>MeterSet, leading, trailing: 1, 10.4, 10.9</code></span></summary><div><table><thead><tr></tr></thead><tbody><tr><td>MeterSet</td><td><div class=\"dni-plaintext\"><pre>1</pre></div></td></tr><tr><td>LeadingLeafPos</td><td><div class=\"dni-plaintext\"><pre>10.4</pre></div></td></tr><tr><td>TrailingLeafPos</td><td><div class=\"dni-plaintext\"><pre>10.9</pre></div></td></tr></tbody></table></div></details></td></tr></tbody></table><style>\r\n",
       ".dni-code-hint {\r\n",
       "    font-style: italic;\r\n",
       "    overflow: hidden;\r\n",
       "    white-space: nowrap;\r\n",
       "}\r\n",
       ".dni-treeview {\r\n",
       "    white-space: nowrap;\r\n",
       "}\r\n",
       ".dni-treeview td {\r\n",
       "    vertical-align: top;\r\n",
       "    text-align: start;\r\n",
       "}\r\n",
       "details.dni-treeview {\r\n",
       "    padding-left: 1em;\r\n",
       "}\r\n",
       "table td {\r\n",
       "    text-align: start;\r\n",
       "}\r\n",
       "table tr { \r\n",
       "    vertical-align: top; \r\n",
       "    margin: 0em 0px;\r\n",
       "}\r\n",
       "table tr td pre \r\n",
       "{ \r\n",
       "    vertical-align: top !important; \r\n",
       "    margin: 0em 0px !important;\r\n",
       "} \r\n",
       "table th {\r\n",
       "    text-align: start;\r\n",
       "}\r\n",
       "</style>"
      ]
     },
     "metadata": {},
     "output_type": "display_data"
    }
   ],
   "source": [
    "table[10..]"
   ]
  },
  {
   "cell_type": "markdown",
   "metadata": {},
   "source": []
  }
 ],
 "metadata": {
  "kernelspec": {
   "display_name": "Python 3",
   "language": "python",
   "name": "python3"
  },
  "language_info": {
   "name": "python",
   "version": "3.9.6"
  },
  "polyglot_notebook": {
   "kernelInfo": {
    "defaultKernelName": "csharp",
    "items": [
     {
      "aliases": [],
      "languageName": "csharp",
      "name": "csharp"
     }
    ]
   }
  }
 },
 "nbformat": 4,
 "nbformat_minor": 2
}
